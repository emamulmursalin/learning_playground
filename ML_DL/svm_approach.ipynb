{
 "cells": [
  {
   "cell_type": "markdown",
   "metadata": {},
   "source": [
    "In this notebook we will apply a support vector machine to build a model for predicting if a credit card will be paid back on due time or not. "
   ]
  },
  {
   "cell_type": "code",
   "execution_count": 7,
   "metadata": {},
   "outputs": [],
   "source": [
    "#First import some most common libraries\n",
    "import pandas as pd\n",
    "import numpy as np\n",
    "from matplotlib import pyplot as plt\n",
    "from matplotlib import colors\n",
    "%matplotlib inline"
   ]
  },
  {
   "cell_type": "code",
   "execution_count": 8,
   "metadata": {},
   "outputs": [],
   "source": [
    "# Now import some modules for this problem specifically\n",
    "from sklearn.utils import resample\n",
    "from sklearn.model_selection import train_test_split, GridSearchCV\n",
    "from sklearn.preprocessing import scale\n",
    "from sklearn.svm import SVC\n",
    "from sklearn.metrics import confusion_matrix, plot_confusion_matrix\n",
    "from sklearn.decomposition import PCA"
   ]
  },
  {
   "cell_type": "code",
   "execution_count": 31,
   "metadata": {},
   "outputs": [],
   "source": [
    "data = pd.read_excel('default_of_credit_card_clients.xls', header = 1)"
   ]
  },
  {
   "cell_type": "code",
   "execution_count": 32,
   "metadata": {},
   "outputs": [
    {
     "data": {
      "text/html": [
       "<div>\n",
       "<style scoped>\n",
       "    .dataframe tbody tr th:only-of-type {\n",
       "        vertical-align: middle;\n",
       "    }\n",
       "\n",
       "    .dataframe tbody tr th {\n",
       "        vertical-align: top;\n",
       "    }\n",
       "\n",
       "    .dataframe thead th {\n",
       "        text-align: right;\n",
       "    }\n",
       "</style>\n",
       "<table border=\"1\" class=\"dataframe\">\n",
       "  <thead>\n",
       "    <tr style=\"text-align: right;\">\n",
       "      <th></th>\n",
       "      <th>ID</th>\n",
       "      <th>LIMIT_BAL</th>\n",
       "      <th>SEX</th>\n",
       "      <th>EDUCATION</th>\n",
       "      <th>MARRIAGE</th>\n",
       "      <th>AGE</th>\n",
       "      <th>PAY_0</th>\n",
       "      <th>PAY_2</th>\n",
       "      <th>PAY_3</th>\n",
       "      <th>PAY_4</th>\n",
       "      <th>...</th>\n",
       "      <th>BILL_AMT4</th>\n",
       "      <th>BILL_AMT5</th>\n",
       "      <th>BILL_AMT6</th>\n",
       "      <th>PAY_AMT1</th>\n",
       "      <th>PAY_AMT2</th>\n",
       "      <th>PAY_AMT3</th>\n",
       "      <th>PAY_AMT4</th>\n",
       "      <th>PAY_AMT5</th>\n",
       "      <th>PAY_AMT6</th>\n",
       "      <th>default payment next month</th>\n",
       "    </tr>\n",
       "  </thead>\n",
       "  <tbody>\n",
       "    <tr>\n",
       "      <th>0</th>\n",
       "      <td>1</td>\n",
       "      <td>20000</td>\n",
       "      <td>2</td>\n",
       "      <td>2</td>\n",
       "      <td>1</td>\n",
       "      <td>24</td>\n",
       "      <td>2</td>\n",
       "      <td>2</td>\n",
       "      <td>-1</td>\n",
       "      <td>-1</td>\n",
       "      <td>...</td>\n",
       "      <td>0</td>\n",
       "      <td>0</td>\n",
       "      <td>0</td>\n",
       "      <td>0</td>\n",
       "      <td>689</td>\n",
       "      <td>0</td>\n",
       "      <td>0</td>\n",
       "      <td>0</td>\n",
       "      <td>0</td>\n",
       "      <td>1</td>\n",
       "    </tr>\n",
       "    <tr>\n",
       "      <th>1</th>\n",
       "      <td>2</td>\n",
       "      <td>120000</td>\n",
       "      <td>2</td>\n",
       "      <td>2</td>\n",
       "      <td>2</td>\n",
       "      <td>26</td>\n",
       "      <td>-1</td>\n",
       "      <td>2</td>\n",
       "      <td>0</td>\n",
       "      <td>0</td>\n",
       "      <td>...</td>\n",
       "      <td>3272</td>\n",
       "      <td>3455</td>\n",
       "      <td>3261</td>\n",
       "      <td>0</td>\n",
       "      <td>1000</td>\n",
       "      <td>1000</td>\n",
       "      <td>1000</td>\n",
       "      <td>0</td>\n",
       "      <td>2000</td>\n",
       "      <td>1</td>\n",
       "    </tr>\n",
       "    <tr>\n",
       "      <th>2</th>\n",
       "      <td>3</td>\n",
       "      <td>90000</td>\n",
       "      <td>2</td>\n",
       "      <td>2</td>\n",
       "      <td>2</td>\n",
       "      <td>34</td>\n",
       "      <td>0</td>\n",
       "      <td>0</td>\n",
       "      <td>0</td>\n",
       "      <td>0</td>\n",
       "      <td>...</td>\n",
       "      <td>14331</td>\n",
       "      <td>14948</td>\n",
       "      <td>15549</td>\n",
       "      <td>1518</td>\n",
       "      <td>1500</td>\n",
       "      <td>1000</td>\n",
       "      <td>1000</td>\n",
       "      <td>1000</td>\n",
       "      <td>5000</td>\n",
       "      <td>0</td>\n",
       "    </tr>\n",
       "    <tr>\n",
       "      <th>3</th>\n",
       "      <td>4</td>\n",
       "      <td>50000</td>\n",
       "      <td>2</td>\n",
       "      <td>2</td>\n",
       "      <td>1</td>\n",
       "      <td>37</td>\n",
       "      <td>0</td>\n",
       "      <td>0</td>\n",
       "      <td>0</td>\n",
       "      <td>0</td>\n",
       "      <td>...</td>\n",
       "      <td>28314</td>\n",
       "      <td>28959</td>\n",
       "      <td>29547</td>\n",
       "      <td>2000</td>\n",
       "      <td>2019</td>\n",
       "      <td>1200</td>\n",
       "      <td>1100</td>\n",
       "      <td>1069</td>\n",
       "      <td>1000</td>\n",
       "      <td>0</td>\n",
       "    </tr>\n",
       "    <tr>\n",
       "      <th>4</th>\n",
       "      <td>5</td>\n",
       "      <td>50000</td>\n",
       "      <td>1</td>\n",
       "      <td>2</td>\n",
       "      <td>1</td>\n",
       "      <td>57</td>\n",
       "      <td>-1</td>\n",
       "      <td>0</td>\n",
       "      <td>-1</td>\n",
       "      <td>0</td>\n",
       "      <td>...</td>\n",
       "      <td>20940</td>\n",
       "      <td>19146</td>\n",
       "      <td>19131</td>\n",
       "      <td>2000</td>\n",
       "      <td>36681</td>\n",
       "      <td>10000</td>\n",
       "      <td>9000</td>\n",
       "      <td>689</td>\n",
       "      <td>679</td>\n",
       "      <td>0</td>\n",
       "    </tr>\n",
       "  </tbody>\n",
       "</table>\n",
       "<p>5 rows × 25 columns</p>\n",
       "</div>"
      ],
      "text/plain": [
       "   ID  LIMIT_BAL  SEX  EDUCATION  MARRIAGE  AGE  PAY_0  PAY_2  PAY_3  PAY_4  \\\n",
       "0   1      20000    2          2         1   24      2      2     -1     -1   \n",
       "1   2     120000    2          2         2   26     -1      2      0      0   \n",
       "2   3      90000    2          2         2   34      0      0      0      0   \n",
       "3   4      50000    2          2         1   37      0      0      0      0   \n",
       "4   5      50000    1          2         1   57     -1      0     -1      0   \n",
       "\n",
       "   ...  BILL_AMT4  BILL_AMT5  BILL_AMT6  PAY_AMT1  PAY_AMT2  PAY_AMT3  \\\n",
       "0  ...          0          0          0         0       689         0   \n",
       "1  ...       3272       3455       3261         0      1000      1000   \n",
       "2  ...      14331      14948      15549      1518      1500      1000   \n",
       "3  ...      28314      28959      29547      2000      2019      1200   \n",
       "4  ...      20940      19146      19131      2000     36681     10000   \n",
       "\n",
       "   PAY_AMT4  PAY_AMT5  PAY_AMT6  default payment next month  \n",
       "0         0         0         0                           1  \n",
       "1      1000         0      2000                           1  \n",
       "2      1000      1000      5000                           0  \n",
       "3      1100      1069      1000                           0  \n",
       "4      9000       689       679                           0  \n",
       "\n",
       "[5 rows x 25 columns]"
      ]
     },
     "execution_count": 32,
     "metadata": {},
     "output_type": "execute_result"
    }
   ],
   "source": [
    "data.head()"
   ]
  },
  {
   "cell_type": "code",
   "execution_count": 33,
   "metadata": {},
   "outputs": [
    {
     "data": {
      "text/plain": [
       "Index(['ID', 'LIMIT_BAL', 'SEX', 'EDUCATION', 'MARRIAGE', 'AGE', 'PAY_0',\n",
       "       'PAY_2', 'PAY_3', 'PAY_4', 'PAY_5', 'PAY_6', 'BILL_AMT1', 'BILL_AMT2',\n",
       "       'BILL_AMT3', 'BILL_AMT4', 'BILL_AMT5', 'BILL_AMT6', 'PAY_AMT1',\n",
       "       'PAY_AMT2', 'PAY_AMT3', 'PAY_AMT4', 'PAY_AMT5', 'PAY_AMT6',\n",
       "       'default payment next month'],\n",
       "      dtype='object')"
      ]
     },
     "execution_count": 33,
     "metadata": {},
     "output_type": "execute_result"
    }
   ],
   "source": [
    "data.columns"
   ]
  },
  {
   "cell_type": "code",
   "execution_count": 34,
   "metadata": {},
   "outputs": [
    {
     "data": {
      "text/plain": [
       "Index(['LIMIT_BAL', 'SEX', 'EDUCATION', 'MARRIAGE', 'AGE', 'PAY_0', 'PAY_2',\n",
       "       'PAY_3', 'PAY_4', 'PAY_5', 'PAY_6', 'BILL_AMT1', 'BILL_AMT2',\n",
       "       'BILL_AMT3', 'BILL_AMT4', 'BILL_AMT5', 'BILL_AMT6', 'PAY_AMT1',\n",
       "       'PAY_AMT2', 'PAY_AMT3', 'PAY_AMT4', 'PAY_AMT5', 'PAY_AMT6', 'Failed'],\n",
       "      dtype='object')"
      ]
     },
     "execution_count": 34,
     "metadata": {},
     "output_type": "execute_result"
    }
   ],
   "source": [
    "# Our target column is \"default payment next month\". Let's rename it\n",
    "# Also 'ID' column is not useful. We can get rid of it\n",
    "data.rename({'default payment next month' : 'Failed'}, axis = 1, inplace = True)\n",
    "data.drop('ID', axis = 1, inplace = True)\n",
    "data.columns"
   ]
  },
  {
   "cell_type": "code",
   "execution_count": 45,
   "metadata": {},
   "outputs": [
    {
     "name": "stdout",
     "output_type": "stream",
     "text": [
      "List of unique values in Education column: [2 1 3 5 4 6 0]\n",
      "Number of N/A values in Education column: 0\n",
      "List of unique values in Marriage column: [1 2 3 0]\n",
      "Number of N/A values in Marriage column: 0\n"
     ]
    }
   ],
   "source": [
    "# Now we will check for some missing data or unusual data\n",
    "\n",
    "print('List of unique values in Education column:', data['EDUCATION'].unique())\n",
    "print('Number of N/A values in Education column:', data['EDUCATION'].isna().sum())\n",
    "\n",
    "print('List of unique values in Marriage column:', data['MARRIAGE'].unique())\n",
    "print('Number of N/A values in Marriage column:', data['MARRIAGE'].isna().sum())"
   ]
  },
  {
   "cell_type": "markdown",
   "metadata": {},
   "source": [
    "Zeros in this columns does not have any meaning actually. So we can assume that these are missing data. Lets find out in where both Education and Marriage values are missing"
   ]
  },
  {
   "cell_type": "code",
   "execution_count": 56,
   "metadata": {},
   "outputs": [
    {
     "name": "stdout",
     "output_type": "stream",
     "text": [
      "Number of samples in original dataset: 30000\n",
      "Number of samples in data_dropped dataset: 29932\n"
     ]
    }
   ],
   "source": [
    "print('Number of samples in original dataset:', len( data))\n",
    "data_dropped = data.loc[(data['EDUCATION'] != 0) & (data['MARRIAGE'] != 0)]\n",
    "print('Number of samples in data_dropped dataset:', len(data_dropped))"
   ]
  },
  {
   "cell_type": "markdown",
   "metadata": {},
   "source": [
    "Now let's check again the zeros in those columns."
   ]
  },
  {
   "cell_type": "code",
   "execution_count": 57,
   "metadata": {},
   "outputs": [
    {
     "name": "stdout",
     "output_type": "stream",
     "text": [
      "List of unique values in Education column: [2 1 3 5 4 6]\n",
      "Number of N/A values in Education column: 0\n",
      "List of unique values in Marriage column: [1 2 3]\n",
      "Number of N/A values in Marriage column: 0\n"
     ]
    }
   ],
   "source": [
    "print('List of unique values in Education column:', data_dropped['EDUCATION'].unique())\n",
    "print('Number of N/A values in Education column:', data_dropped['EDUCATION'].isna().sum())\n",
    "\n",
    "print('List of unique values in Marriage column:', data_dropped['MARRIAGE'].unique())\n",
    "print('Number of N/A values in Marriage column:', data_dropped['MARRIAGE'].isna().sum())"
   ]
  },
  {
   "cell_type": "markdown",
   "metadata": {},
   "source": [
    "So there are not more zeros in those columns. It is interesting to observe that both of the columns had zeros for the same entries. Which proves our initial assumptions that zeros are actually missing values."
   ]
  },
  {
   "cell_type": "markdown",
   "metadata": {},
   "source": [
    "SVM works much better for smaller datasets rather than a large one. Our dataset has almost 30 Thousand datarows. So we will sample down with 1000 data from each target catagory."
   ]
  },
  {
   "cell_type": "code",
   "execution_count": 61,
   "metadata": {},
   "outputs": [],
   "source": [
    "data_failed = data[data['Failed'] == 1]\n",
    "data_no_failed = data[data['Failed'] == 0]\n",
    "\n",
    "data_failed_downsampled = resample(data_failed, replace = False,\n",
    "                                  n_samples = 1000, random_state = 42)\n",
    "data_no_failed_downsampled = resample(data_no_failed, replace = False,\n",
    "                                  n_samples = 1000, random_state = 42)"
   ]
  },
  {
   "cell_type": "code",
   "execution_count": 63,
   "metadata": {},
   "outputs": [],
   "source": [
    "# Now creating the final concatenated dataset from 1000 sample of each type\n",
    "data_downsampled = pd.concat([data_failed_downsampled, data_no_failed_downsampled])"
   ]
  },
  {
   "cell_type": "code",
   "execution_count": 67,
   "metadata": {},
   "outputs": [],
   "source": [
    "# Let's create the train test datasets and then split them\n",
    "\n",
    "X = data_downsampled.drop('Failed', axis = 1)\n",
    "y = data_downsampled['Failed']"
   ]
  },
  {
   "cell_type": "markdown",
   "metadata": {},
   "source": [
    "We need to convert the categorical values by using One hot encoding"
   ]
  },
  {
   "cell_type": "code",
   "execution_count": 73,
   "metadata": {},
   "outputs": [],
   "source": [
    "X_encoded = pd.get_dummies(X, columns = ['SEX', 'EDUCATION', 'MARRIAGE', 'PAY_0', 'PAY_2',\n",
    "       'PAY_3', 'PAY_4', 'PAY_5', 'PAY_6'])"
   ]
  },
  {
   "cell_type": "code",
   "execution_count": 74,
   "metadata": {},
   "outputs": [],
   "source": [
    "# We have to scale the data now\n",
    "X_final = scale(X_encoded)"
   ]
  },
  {
   "cell_type": "code",
   "execution_count": 76,
   "metadata": {},
   "outputs": [],
   "source": [
    "X_train, X_test, y_train, y_test = train_test_split(X_final, y, test_size = 0.2, random_state = 42)"
   ]
  },
  {
   "cell_type": "code",
   "execution_count": 77,
   "metadata": {},
   "outputs": [
    {
     "data": {
      "text/plain": [
       "SVC(random_state=42)"
      ]
     },
     "execution_count": 77,
     "metadata": {},
     "output_type": "execute_result"
    }
   ],
   "source": [
    "# Now we will build our classifier\n",
    "\n",
    "model_svm = SVC(random_state = 42)\n",
    "model_svm.fit(X_train, y_train)"
   ]
  },
  {
   "cell_type": "code",
   "execution_count": 79,
   "metadata": {},
   "outputs": [
    {
     "data": {
      "text/plain": [
       "<sklearn.metrics._plot.confusion_matrix.ConfusionMatrixDisplay at 0x296639f0eb0>"
      ]
     },
     "execution_count": 79,
     "metadata": {},
     "output_type": "execute_result"
    },
    {
     "data": {
      "image/png": "[encoded data removed]",
      "text/plain": [
       "<Figure size 432x288 with 2 Axes>"
      ]
     },
     "metadata": {
      "needs_background": "light"
     },
     "output_type": "display_data"
    }
   ],
   "source": [
    "plot_confusion_matrix(model_svm, X_test, y_test, values_format = 'd',\n",
    "                     display_labels = ['Regular', 'Failed'])"
   ]
  },
  {
   "cell_type": "markdown",
   "metadata": {},
   "source": [
    "In our first attempt we tried with the default settings of Support Vector. Now we can use GridsearchCV to find the best parameters for the classifier."
   ]
  },
  {
   "cell_type": "code",
   "execution_count": 94,
   "metadata": {
    "collapsed": true
   },
   "outputs": [
    {
     "name": "stdout",
     "output_type": "stream",
     "text": [
      "Fitting 5 folds for each of 40 candidates, totalling 200 fits\n",
      "[CV] C=0.1, gamma=scale, kernel=rbf ..................................\n"
     ]
    },
    {
     "name": "stderr",
     "output_type": "stream",
     "text": [
      "[Parallel(n_jobs=1)]: Using backend SequentialBackend with 1 concurrent workers.\n"
     ]
    },
    {
     "name": "stdout",
     "output_type": "stream",
     "text": [
      "[CV] ................... C=0.1, gamma=scale, kernel=rbf, total=   0.3s\n",
      "[CV] C=0.1, gamma=scale, kernel=rbf ..................................\n"
     ]
    },
    {
     "name": "stderr",
     "output_type": "stream",
     "text": [
      "[Parallel(n_jobs=1)]: Done   1 out of   1 | elapsed:    0.2s remaining:    0.0s\n"
     ]
    },
    {
     "name": "stdout",
     "output_type": "stream",
     "text": [
      "[CV] ................... C=0.1, gamma=scale, kernel=rbf, total=   0.3s\n",
      "[CV] C=0.1, gamma=scale, kernel=rbf ..................................\n",
      "[CV] ................... C=0.1, gamma=scale, kernel=rbf, total=   0.3s\n",
      "[CV] C=0.1, gamma=scale, kernel=rbf ..................................\n",
      "[CV] ................... C=0.1, gamma=scale, kernel=rbf, total=   0.3s\n",
      "[CV] C=0.1, gamma=scale, kernel=rbf ..................................\n",
      "[CV] ................... C=0.1, gamma=scale, kernel=rbf, total=   0.3s\n",
      "[CV] C=0.1, gamma=scale, kernel=poly .................................\n",
      "[CV] .................. C=0.1, gamma=scale, kernel=poly, total=   0.2s\n",
      "[CV] C=0.1, gamma=scale, kernel=poly .................................\n",
      "[CV] .................. C=0.1, gamma=scale, kernel=poly, total=   0.2s\n",
      "[CV] C=0.1, gamma=scale, kernel=poly .................................\n",
      "[CV] .................. C=0.1, gamma=scale, kernel=poly, total=   0.2s\n",
      "[CV] C=0.1, gamma=scale, kernel=poly .................................\n",
      "[CV] .................. C=0.1, gamma=scale, kernel=poly, total=   0.2s\n",
      "[CV] C=0.1, gamma=scale, kernel=poly .................................\n",
      "[CV] .................. C=0.1, gamma=scale, kernel=poly, total=   0.2s\n",
      "[CV] C=0.1, gamma=auto, kernel=rbf ...................................\n",
      "[CV] .................... C=0.1, gamma=auto, kernel=rbf, total=   0.3s\n",
      "[CV] C=0.1, gamma=auto, kernel=rbf ...................................\n",
      "[CV] .................... C=0.1, gamma=auto, kernel=rbf, total=   0.3s\n",
      "[CV] C=0.1, gamma=auto, kernel=rbf ...................................\n",
      "[CV] .................... C=0.1, gamma=auto, kernel=rbf, total=   0.3s\n",
      "[CV] C=0.1, gamma=auto, kernel=rbf ...................................\n",
      "[CV] .................... C=0.1, gamma=auto, kernel=rbf, total=   0.3s\n",
      "[CV] C=0.1, gamma=auto, kernel=rbf ...................................\n",
      "[CV] .................... C=0.1, gamma=auto, kernel=rbf, total=   0.3s\n",
      "[CV] C=0.1, gamma=auto, kernel=poly ..................................\n",
      "[CV] ................... C=0.1, gamma=auto, kernel=poly, total=   0.2s\n",
      "[CV] C=0.1, gamma=auto, kernel=poly ..................................\n",
      "[CV] ................... C=0.1, gamma=auto, kernel=poly, total=   0.2s\n",
      "[CV] C=0.1, gamma=auto, kernel=poly ..................................\n",
      "[CV] ................... C=0.1, gamma=auto, kernel=poly, total=   0.2s\n",
      "[CV] C=0.1, gamma=auto, kernel=poly ..................................\n",
      "[CV] ................... C=0.1, gamma=auto, kernel=poly, total=   0.2s\n",
      "[CV] C=0.1, gamma=auto, kernel=poly ..................................\n",
      "[CV] ................... C=0.1, gamma=auto, kernel=poly, total=   0.2s\n",
      "[CV] C=0.1, gamma=1, kernel=rbf ......................................\n",
      "[CV] ....................... C=0.1, gamma=1, kernel=rbf, total=   0.3s\n",
      "[CV] C=0.1, gamma=1, kernel=rbf ......................................\n",
      "[CV] ....................... C=0.1, gamma=1, kernel=rbf, total=   0.3s\n",
      "[CV] C=0.1, gamma=1, kernel=rbf ......................................\n",
      "[CV] ....................... C=0.1, gamma=1, kernel=rbf, total=   0.3s\n",
      "[CV] C=0.1, gamma=1, kernel=rbf ......................................\n",
      "[CV] ....................... C=0.1, gamma=1, kernel=rbf, total=   0.3s\n",
      "[CV] C=0.1, gamma=1, kernel=rbf ......................................\n",
      "[CV] ....................... C=0.1, gamma=1, kernel=rbf, total=   0.3s\n",
      "[CV] C=0.1, gamma=1, kernel=poly .....................................\n",
      "[CV] ...................... C=0.1, gamma=1, kernel=poly, total=   1.2s\n",
      "[CV] C=0.1, gamma=1, kernel=poly .....................................\n",
      "[CV] ...................... C=0.1, gamma=1, kernel=poly, total=   1.1s\n",
      "[CV] C=0.1, gamma=1, kernel=poly .....................................\n",
      "[CV] ...................... C=0.1, gamma=1, kernel=poly, total=   1.3s\n",
      "[CV] C=0.1, gamma=1, kernel=poly .....................................\n",
      "[CV] ...................... C=0.1, gamma=1, kernel=poly, total=   1.1s\n",
      "[CV] C=0.1, gamma=1, kernel=poly .....................................\n",
      "[CV] ...................... C=0.1, gamma=1, kernel=poly, total=   1.2s\n",
      "[CV] C=0.1, gamma=0.0001, kernel=rbf .................................\n",
      "[CV] .................. C=0.1, gamma=0.0001, kernel=rbf, total=   0.2s\n",
      "[CV] C=0.1, gamma=0.0001, kernel=rbf .................................\n",
      "[CV] .................. C=0.1, gamma=0.0001, kernel=rbf, total=   0.2s\n",
      "[CV] C=0.1, gamma=0.0001, kernel=rbf .................................\n",
      "[CV] .................. C=0.1, gamma=0.0001, kernel=rbf, total=   0.2s\n",
      "[CV] C=0.1, gamma=0.0001, kernel=rbf .................................\n",
      "[CV] .................. C=0.1, gamma=0.0001, kernel=rbf, total=   0.2s\n",
      "[CV] C=0.1, gamma=0.0001, kernel=rbf .................................\n",
      "[CV] .................. C=0.1, gamma=0.0001, kernel=rbf, total=   0.2s\n",
      "[CV] C=0.1, gamma=0.0001, kernel=poly ................................\n",
      "[CV] ................. C=0.1, gamma=0.0001, kernel=poly, total=   0.1s\n",
      "[CV] C=0.1, gamma=0.0001, kernel=poly ................................\n",
      "[CV] ................. C=0.1, gamma=0.0001, kernel=poly, total=   0.1s\n",
      "[CV] C=0.1, gamma=0.0001, kernel=poly ................................\n",
      "[CV] ................. C=0.1, gamma=0.0001, kernel=poly, total=   0.1s\n",
      "[CV] C=0.1, gamma=0.0001, kernel=poly ................................\n",
      "[CV] ................. C=0.1, gamma=0.0001, kernel=poly, total=   0.1s\n",
      "[CV] C=0.1, gamma=0.0001, kernel=poly ................................\n",
      "[CV] ................. C=0.1, gamma=0.0001, kernel=poly, total=   0.1s\n",
      "[CV] C=0.5, gamma=scale, kernel=rbf ..................................\n",
      "[CV] ................... C=0.5, gamma=scale, kernel=rbf, total=   0.1s\n",
      "[CV] C=0.5, gamma=scale, kernel=rbf ..................................\n",
      "[CV] ................... C=0.5, gamma=scale, kernel=rbf, total=   0.1s\n",
      "[CV] C=0.5, gamma=scale, kernel=rbf ..................................\n",
      "[CV] ................... C=0.5, gamma=scale, kernel=rbf, total=   0.1s\n",
      "[CV] C=0.5, gamma=scale, kernel=rbf ..................................\n",
      "[CV] ................... C=0.5, gamma=scale, kernel=rbf, total=   0.1s\n",
      "[CV] C=0.5, gamma=scale, kernel=rbf ..................................\n",
      "[CV] ................... C=0.5, gamma=scale, kernel=rbf, total=   0.1s\n",
      "[CV] C=0.5, gamma=scale, kernel=poly .................................\n",
      "[CV] .................. C=0.5, gamma=scale, kernel=poly, total=   0.1s\n",
      "[CV] C=0.5, gamma=scale, kernel=poly .................................\n",
      "[CV] .................. C=0.5, gamma=scale, kernel=poly, total=   0.1s\n",
      "[CV] C=0.5, gamma=scale, kernel=poly .................................\n",
      "[CV] .................. C=0.5, gamma=scale, kernel=poly, total=   0.1s\n",
      "[CV] C=0.5, gamma=scale, kernel=poly .................................\n",
      "[CV] .................. C=0.5, gamma=scale, kernel=poly, total=   0.1s\n",
      "[CV] C=0.5, gamma=scale, kernel=poly .................................\n",
      "[CV] .................. C=0.5, gamma=scale, kernel=poly, total=   0.1s\n",
      "[CV] C=0.5, gamma=auto, kernel=rbf ...................................\n",
      "[CV] .................... C=0.5, gamma=auto, kernel=rbf, total=   0.1s\n",
      "[CV] C=0.5, gamma=auto, kernel=rbf ...................................\n",
      "[CV] .................... C=0.5, gamma=auto, kernel=rbf, total=   0.1s\n",
      "[CV] C=0.5, gamma=auto, kernel=rbf ...................................\n",
      "[CV] .................... C=0.5, gamma=auto, kernel=rbf, total=   0.1s\n",
      "[CV] C=0.5, gamma=auto, kernel=rbf ...................................\n",
      "[CV] .................... C=0.5, gamma=auto, kernel=rbf, total=   0.1s\n",
      "[CV] C=0.5, gamma=auto, kernel=rbf ...................................\n",
      "[CV] .................... C=0.5, gamma=auto, kernel=rbf, total=   0.1s\n",
      "[CV] C=0.5, gamma=auto, kernel=poly ..................................\n",
      "[CV] ................... C=0.5, gamma=auto, kernel=poly, total=   0.1s\n",
      "[CV] C=0.5, gamma=auto, kernel=poly ..................................\n",
      "[CV] ................... C=0.5, gamma=auto, kernel=poly, total=   0.1s\n",
      "[CV] C=0.5, gamma=auto, kernel=poly ..................................\n",
      "[CV] ................... C=0.5, gamma=auto, kernel=poly, total=   0.1s\n",
      "[CV] C=0.5, gamma=auto, kernel=poly ..................................\n",
      "[CV] ................... C=0.5, gamma=auto, kernel=poly, total=   0.1s\n",
      "[CV] C=0.5, gamma=auto, kernel=poly ..................................\n",
      "[CV] ................... C=0.5, gamma=auto, kernel=poly, total=   0.1s\n",
      "[CV] C=0.5, gamma=1, kernel=rbf ......................................\n"
     ]
    },
    {
     "name": "stdout",
     "output_type": "stream",
     "text": [
      "[CV] ....................... C=0.5, gamma=1, kernel=rbf, total=   0.2s\n",
      "[CV] C=0.5, gamma=1, kernel=rbf ......................................\n",
      "[CV] ....................... C=0.5, gamma=1, kernel=rbf, total=   0.2s\n",
      "[CV] C=0.5, gamma=1, kernel=rbf ......................................\n",
      "[CV] ....................... C=0.5, gamma=1, kernel=rbf, total=   0.2s\n",
      "[CV] C=0.5, gamma=1, kernel=rbf ......................................\n",
      "[CV] ....................... C=0.5, gamma=1, kernel=rbf, total=   0.2s\n",
      "[CV] C=0.5, gamma=1, kernel=rbf ......................................\n",
      "[CV] ....................... C=0.5, gamma=1, kernel=rbf, total=   0.2s\n",
      "[CV] C=0.5, gamma=1, kernel=poly .....................................\n",
      "[CV] ...................... C=0.5, gamma=1, kernel=poly, total=   1.1s\n",
      "[CV] C=0.5, gamma=1, kernel=poly .....................................\n",
      "[CV] ...................... C=0.5, gamma=1, kernel=poly, total=   1.7s\n",
      "[CV] C=0.5, gamma=1, kernel=poly .....................................\n",
      "[CV] ...................... C=0.5, gamma=1, kernel=poly, total=   0.8s\n",
      "[CV] C=0.5, gamma=1, kernel=poly .....................................\n",
      "[CV] ...................... C=0.5, gamma=1, kernel=poly, total=   1.2s\n",
      "[CV] C=0.5, gamma=1, kernel=poly .....................................\n",
      "[CV] ...................... C=0.5, gamma=1, kernel=poly, total=   1.7s\n",
      "[CV] C=0.5, gamma=0.0001, kernel=rbf .................................\n",
      "[CV] .................. C=0.5, gamma=0.0001, kernel=rbf, total=   0.2s\n",
      "[CV] C=0.5, gamma=0.0001, kernel=rbf .................................\n",
      "[CV] .................. C=0.5, gamma=0.0001, kernel=rbf, total=   0.2s\n",
      "[CV] C=0.5, gamma=0.0001, kernel=rbf .................................\n",
      "[CV] .................. C=0.5, gamma=0.0001, kernel=rbf, total=   0.2s\n",
      "[CV] C=0.5, gamma=0.0001, kernel=rbf .................................\n",
      "[CV] .................. C=0.5, gamma=0.0001, kernel=rbf, total=   0.2s\n",
      "[CV] C=0.5, gamma=0.0001, kernel=rbf .................................\n",
      "[CV] .................. C=0.5, gamma=0.0001, kernel=rbf, total=   0.2s\n",
      "[CV] C=0.5, gamma=0.0001, kernel=poly ................................\n",
      "[CV] ................. C=0.5, gamma=0.0001, kernel=poly, total=   0.1s\n",
      "[CV] C=0.5, gamma=0.0001, kernel=poly ................................\n",
      "[CV] ................. C=0.5, gamma=0.0001, kernel=poly, total=   0.1s\n",
      "[CV] C=0.5, gamma=0.0001, kernel=poly ................................\n",
      "[CV] ................. C=0.5, gamma=0.0001, kernel=poly, total=   0.1s\n",
      "[CV] C=0.5, gamma=0.0001, kernel=poly ................................\n",
      "[CV] ................. C=0.5, gamma=0.0001, kernel=poly, total=   0.1s\n",
      "[CV] C=0.5, gamma=0.0001, kernel=poly ................................\n",
      "[CV] ................. C=0.5, gamma=0.0001, kernel=poly, total=   0.1s\n",
      "[CV] C=1, gamma=scale, kernel=rbf ....................................\n",
      "[CV] ..................... C=1, gamma=scale, kernel=rbf, total=   0.1s\n",
      "[CV] C=1, gamma=scale, kernel=rbf ....................................\n",
      "[CV] ..................... C=1, gamma=scale, kernel=rbf, total=   0.1s\n",
      "[CV] C=1, gamma=scale, kernel=rbf ....................................\n",
      "[CV] ..................... C=1, gamma=scale, kernel=rbf, total=   0.1s\n",
      "[CV] C=1, gamma=scale, kernel=rbf ....................................\n",
      "[CV] ..................... C=1, gamma=scale, kernel=rbf, total=   0.1s\n",
      "[CV] C=1, gamma=scale, kernel=rbf ....................................\n",
      "[CV] ..................... C=1, gamma=scale, kernel=rbf, total=   0.1s\n",
      "[CV] C=1, gamma=scale, kernel=poly ...................................\n",
      "[CV] .................... C=1, gamma=scale, kernel=poly, total=   0.1s\n",
      "[CV] C=1, gamma=scale, kernel=poly ...................................\n",
      "[CV] .................... C=1, gamma=scale, kernel=poly, total=   0.1s\n",
      "[CV] C=1, gamma=scale, kernel=poly ...................................\n",
      "[CV] .................... C=1, gamma=scale, kernel=poly, total=   0.1s\n",
      "[CV] C=1, gamma=scale, kernel=poly ...................................\n",
      "[CV] .................... C=1, gamma=scale, kernel=poly, total=   0.1s\n",
      "[CV] C=1, gamma=scale, kernel=poly ...................................\n",
      "[CV] .................... C=1, gamma=scale, kernel=poly, total=   0.1s\n",
      "[CV] C=1, gamma=auto, kernel=rbf .....................................\n",
      "[CV] ...................... C=1, gamma=auto, kernel=rbf, total=   0.1s\n",
      "[CV] C=1, gamma=auto, kernel=rbf .....................................\n",
      "[CV] ...................... C=1, gamma=auto, kernel=rbf, total=   0.1s\n",
      "[CV] C=1, gamma=auto, kernel=rbf .....................................\n",
      "[CV] ...................... C=1, gamma=auto, kernel=rbf, total=   0.1s\n",
      "[CV] C=1, gamma=auto, kernel=rbf .....................................\n",
      "[CV] ...................... C=1, gamma=auto, kernel=rbf, total=   0.1s\n",
      "[CV] C=1, gamma=auto, kernel=rbf .....................................\n",
      "[CV] ...................... C=1, gamma=auto, kernel=rbf, total=   0.1s\n",
      "[CV] C=1, gamma=auto, kernel=poly ....................................\n",
      "[CV] ..................... C=1, gamma=auto, kernel=poly, total=   0.1s\n",
      "[CV] C=1, gamma=auto, kernel=poly ....................................\n",
      "[CV] ..................... C=1, gamma=auto, kernel=poly, total=   0.1s\n",
      "[CV] C=1, gamma=auto, kernel=poly ....................................\n",
      "[CV] ..................... C=1, gamma=auto, kernel=poly, total=   0.1s\n",
      "[CV] C=1, gamma=auto, kernel=poly ....................................\n",
      "[CV] ..................... C=1, gamma=auto, kernel=poly, total=   0.1s\n",
      "[CV] C=1, gamma=auto, kernel=poly ....................................\n",
      "[CV] ..................... C=1, gamma=auto, kernel=poly, total=   0.1s\n",
      "[CV] C=1, gamma=1, kernel=rbf ........................................\n",
      "[CV] ......................... C=1, gamma=1, kernel=rbf, total=   0.2s\n",
      "[CV] C=1, gamma=1, kernel=rbf ........................................\n",
      "[CV] ......................... C=1, gamma=1, kernel=rbf, total=   0.2s\n",
      "[CV] C=1, gamma=1, kernel=rbf ........................................\n",
      "[CV] ......................... C=1, gamma=1, kernel=rbf, total=   0.2s\n",
      "[CV] C=1, gamma=1, kernel=rbf ........................................\n",
      "[CV] ......................... C=1, gamma=1, kernel=rbf, total=   0.2s\n",
      "[CV] C=1, gamma=1, kernel=rbf ........................................\n",
      "[CV] ......................... C=1, gamma=1, kernel=rbf, total=   0.2s\n",
      "[CV] C=1, gamma=1, kernel=poly .......................................\n",
      "[CV] ........................ C=1, gamma=1, kernel=poly, total=   1.3s\n",
      "[CV] C=1, gamma=1, kernel=poly .......................................\n",
      "[CV] ........................ C=1, gamma=1, kernel=poly, total=   1.7s\n",
      "[CV] C=1, gamma=1, kernel=poly .......................................\n",
      "[CV] ........................ C=1, gamma=1, kernel=poly, total=   1.1s\n",
      "[CV] C=1, gamma=1, kernel=poly .......................................\n",
      "[CV] ........................ C=1, gamma=1, kernel=poly, total=   1.6s\n",
      "[CV] C=1, gamma=1, kernel=poly .......................................\n",
      "[CV] ........................ C=1, gamma=1, kernel=poly, total=   1.9s\n",
      "[CV] C=1, gamma=0.0001, kernel=rbf ...................................\n",
      "[CV] .................... C=1, gamma=0.0001, kernel=rbf, total=   0.2s\n",
      "[CV] C=1, gamma=0.0001, kernel=rbf ...................................\n",
      "[CV] .................... C=1, gamma=0.0001, kernel=rbf, total=   0.2s\n",
      "[CV] C=1, gamma=0.0001, kernel=rbf ...................................\n",
      "[CV] .................... C=1, gamma=0.0001, kernel=rbf, total=   0.2s\n",
      "[CV] C=1, gamma=0.0001, kernel=rbf ...................................\n",
      "[CV] .................... C=1, gamma=0.0001, kernel=rbf, total=   0.2s\n",
      "[CV] C=1, gamma=0.0001, kernel=rbf ...................................\n",
      "[CV] .................... C=1, gamma=0.0001, kernel=rbf, total=   0.2s\n",
      "[CV] C=1, gamma=0.0001, kernel=poly ..................................\n",
      "[CV] ................... C=1, gamma=0.0001, kernel=poly, total=   0.1s\n",
      "[CV] C=1, gamma=0.0001, kernel=poly ..................................\n",
      "[CV] ................... C=1, gamma=0.0001, kernel=poly, total=   0.2s\n",
      "[CV] C=1, gamma=0.0001, kernel=poly ..................................\n",
      "[CV] ................... C=1, gamma=0.0001, kernel=poly, total=   0.1s\n",
      "[CV] C=1, gamma=0.0001, kernel=poly ..................................\n"
     ]
    },
    {
     "name": "stdout",
     "output_type": "stream",
     "text": [
      "[CV] ................... C=1, gamma=0.0001, kernel=poly, total=   0.1s\n",
      "[CV] C=1, gamma=0.0001, kernel=poly ..................................\n",
      "[CV] ................... C=1, gamma=0.0001, kernel=poly, total=   0.1s\n",
      "[CV] C=5, gamma=scale, kernel=rbf ....................................\n",
      "[CV] ..................... C=5, gamma=scale, kernel=rbf, total=   0.2s\n",
      "[CV] C=5, gamma=scale, kernel=rbf ....................................\n",
      "[CV] ..................... C=5, gamma=scale, kernel=rbf, total=   0.2s\n",
      "[CV] C=5, gamma=scale, kernel=rbf ....................................\n",
      "[CV] ..................... C=5, gamma=scale, kernel=rbf, total=   0.2s\n",
      "[CV] C=5, gamma=scale, kernel=rbf ....................................\n",
      "[CV] ..................... C=5, gamma=scale, kernel=rbf, total=   0.2s\n",
      "[CV] C=5, gamma=scale, kernel=rbf ....................................\n",
      "[CV] ..................... C=5, gamma=scale, kernel=rbf, total=   0.1s\n",
      "[CV] C=5, gamma=scale, kernel=poly ...................................\n",
      "[CV] .................... C=5, gamma=scale, kernel=poly, total=   0.1s\n",
      "[CV] C=5, gamma=scale, kernel=poly ...................................\n",
      "[CV] .................... C=5, gamma=scale, kernel=poly, total=   0.1s\n",
      "[CV] C=5, gamma=scale, kernel=poly ...................................\n",
      "[CV] .................... C=5, gamma=scale, kernel=poly, total=   0.1s\n",
      "[CV] C=5, gamma=scale, kernel=poly ...................................\n",
      "[CV] .................... C=5, gamma=scale, kernel=poly, total=   0.1s\n",
      "[CV] C=5, gamma=scale, kernel=poly ...................................\n",
      "[CV] .................... C=5, gamma=scale, kernel=poly, total=   0.1s\n",
      "[CV] C=5, gamma=auto, kernel=rbf .....................................\n",
      "[CV] ...................... C=5, gamma=auto, kernel=rbf, total=   0.2s\n",
      "[CV] C=5, gamma=auto, kernel=rbf .....................................\n",
      "[CV] ...................... C=5, gamma=auto, kernel=rbf, total=   0.1s\n",
      "[CV] C=5, gamma=auto, kernel=rbf .....................................\n",
      "[CV] ...................... C=5, gamma=auto, kernel=rbf, total=   0.2s\n",
      "[CV] C=5, gamma=auto, kernel=rbf .....................................\n",
      "[CV] ...................... C=5, gamma=auto, kernel=rbf, total=   0.1s\n",
      "[CV] C=5, gamma=auto, kernel=rbf .....................................\n",
      "[CV] ...................... C=5, gamma=auto, kernel=rbf, total=   0.2s\n",
      "[CV] C=5, gamma=auto, kernel=poly ....................................\n",
      "[CV] ..................... C=5, gamma=auto, kernel=poly, total=   0.1s\n",
      "[CV] C=5, gamma=auto, kernel=poly ....................................\n",
      "[CV] ..................... C=5, gamma=auto, kernel=poly, total=   0.1s\n",
      "[CV] C=5, gamma=auto, kernel=poly ....................................\n",
      "[CV] ..................... C=5, gamma=auto, kernel=poly, total=   0.1s\n",
      "[CV] C=5, gamma=auto, kernel=poly ....................................\n",
      "[CV] ..................... C=5, gamma=auto, kernel=poly, total=   0.1s\n",
      "[CV] C=5, gamma=auto, kernel=poly ....................................\n",
      "[CV] ..................... C=5, gamma=auto, kernel=poly, total=   0.1s\n",
      "[CV] C=5, gamma=1, kernel=rbf ........................................\n",
      "[CV] ......................... C=5, gamma=1, kernel=rbf, total=   0.2s\n",
      "[CV] C=5, gamma=1, kernel=rbf ........................................\n",
      "[CV] ......................... C=5, gamma=1, kernel=rbf, total=   0.2s\n",
      "[CV] C=5, gamma=1, kernel=rbf ........................................\n",
      "[CV] ......................... C=5, gamma=1, kernel=rbf, total=   0.2s\n",
      "[CV] C=5, gamma=1, kernel=rbf ........................................\n",
      "[CV] ......................... C=5, gamma=1, kernel=rbf, total=   0.3s\n",
      "[CV] C=5, gamma=1, kernel=rbf ........................................\n",
      "[CV] ......................... C=5, gamma=1, kernel=rbf, total=   0.2s\n",
      "[CV] C=5, gamma=1, kernel=poly .......................................\n",
      "[CV] ........................ C=5, gamma=1, kernel=poly, total=   1.4s\n",
      "[CV] C=5, gamma=1, kernel=poly .......................................\n",
      "[CV] ........................ C=5, gamma=1, kernel=poly, total=   2.1s\n",
      "[CV] C=5, gamma=1, kernel=poly .......................................\n",
      "[CV] ........................ C=5, gamma=1, kernel=poly, total=   1.5s\n",
      "[CV] C=5, gamma=1, kernel=poly .......................................\n",
      "[CV] ........................ C=5, gamma=1, kernel=poly, total=   2.0s\n",
      "[CV] C=5, gamma=1, kernel=poly .......................................\n",
      "[CV] ........................ C=5, gamma=1, kernel=poly, total=   2.3s\n",
      "[CV] C=5, gamma=0.0001, kernel=rbf ...................................\n",
      "[CV] .................... C=5, gamma=0.0001, kernel=rbf, total=   0.2s\n",
      "[CV] C=5, gamma=0.0001, kernel=rbf ...................................\n",
      "[CV] .................... C=5, gamma=0.0001, kernel=rbf, total=   0.2s\n",
      "[CV] C=5, gamma=0.0001, kernel=rbf ...................................\n",
      "[CV] .................... C=5, gamma=0.0001, kernel=rbf, total=   0.2s\n",
      "[CV] C=5, gamma=0.0001, kernel=rbf ...................................\n",
      "[CV] .................... C=5, gamma=0.0001, kernel=rbf, total=   0.2s\n",
      "[CV] C=5, gamma=0.0001, kernel=rbf ...................................\n",
      "[CV] .................... C=5, gamma=0.0001, kernel=rbf, total=   0.2s\n",
      "[CV] C=5, gamma=0.0001, kernel=poly ..................................\n",
      "[CV] ................... C=5, gamma=0.0001, kernel=poly, total=   0.1s\n",
      "[CV] C=5, gamma=0.0001, kernel=poly ..................................\n",
      "[CV] ................... C=5, gamma=0.0001, kernel=poly, total=   0.1s\n",
      "[CV] C=5, gamma=0.0001, kernel=poly ..................................\n",
      "[CV] ................... C=5, gamma=0.0001, kernel=poly, total=   0.1s\n",
      "[CV] C=5, gamma=0.0001, kernel=poly ..................................\n",
      "[CV] ................... C=5, gamma=0.0001, kernel=poly, total=   0.1s\n",
      "[CV] C=5, gamma=0.0001, kernel=poly ..................................\n",
      "[CV] ................... C=5, gamma=0.0001, kernel=poly, total=   0.1s\n",
      "[CV] C=10, gamma=scale, kernel=rbf ...................................\n",
      "[CV] .................... C=10, gamma=scale, kernel=rbf, total=   0.1s\n",
      "[CV] C=10, gamma=scale, kernel=rbf ...................................\n",
      "[CV] .................... C=10, gamma=scale, kernel=rbf, total=   0.2s\n",
      "[CV] C=10, gamma=scale, kernel=rbf ...................................\n",
      "[CV] .................... C=10, gamma=scale, kernel=rbf, total=   0.2s\n",
      "[CV] C=10, gamma=scale, kernel=rbf ...................................\n",
      "[CV] .................... C=10, gamma=scale, kernel=rbf, total=   0.2s\n",
      "[CV] C=10, gamma=scale, kernel=rbf ...................................\n",
      "[CV] .................... C=10, gamma=scale, kernel=rbf, total=   0.2s\n",
      "[CV] C=10, gamma=scale, kernel=poly ..................................\n",
      "[CV] ................... C=10, gamma=scale, kernel=poly, total=   0.1s\n",
      "[CV] C=10, gamma=scale, kernel=poly ..................................\n",
      "[CV] ................... C=10, gamma=scale, kernel=poly, total=   0.1s\n",
      "[CV] C=10, gamma=scale, kernel=poly ..................................\n",
      "[CV] ................... C=10, gamma=scale, kernel=poly, total=   0.1s\n",
      "[CV] C=10, gamma=scale, kernel=poly ..................................\n",
      "[CV] ................... C=10, gamma=scale, kernel=poly, total=   0.1s\n",
      "[CV] C=10, gamma=scale, kernel=poly ..................................\n",
      "[CV] ................... C=10, gamma=scale, kernel=poly, total=   0.2s\n",
      "[CV] C=10, gamma=auto, kernel=rbf ....................................\n",
      "[CV] ..................... C=10, gamma=auto, kernel=rbf, total=   0.2s\n",
      "[CV] C=10, gamma=auto, kernel=rbf ....................................\n",
      "[CV] ..................... C=10, gamma=auto, kernel=rbf, total=   0.2s\n",
      "[CV] C=10, gamma=auto, kernel=rbf ....................................\n",
      "[CV] ..................... C=10, gamma=auto, kernel=rbf, total=   0.2s\n",
      "[CV] C=10, gamma=auto, kernel=rbf ....................................\n",
      "[CV] ..................... C=10, gamma=auto, kernel=rbf, total=   0.2s\n",
      "[CV] C=10, gamma=auto, kernel=rbf ....................................\n",
      "[CV] ..................... C=10, gamma=auto, kernel=rbf, total=   0.2s\n",
      "[CV] C=10, gamma=auto, kernel=poly ...................................\n",
      "[CV] .................... C=10, gamma=auto, kernel=poly, total=   0.1s\n",
      "[CV] C=10, gamma=auto, kernel=poly ...................................\n",
      "[CV] .................... C=10, gamma=auto, kernel=poly, total=   0.1s\n",
      "[CV] C=10, gamma=auto, kernel=poly ...................................\n"
     ]
    },
    {
     "name": "stdout",
     "output_type": "stream",
     "text": [
      "[CV] .................... C=10, gamma=auto, kernel=poly, total=   0.1s\n",
      "[CV] C=10, gamma=auto, kernel=poly ...................................\n",
      "[CV] .................... C=10, gamma=auto, kernel=poly, total=   0.1s\n",
      "[CV] C=10, gamma=auto, kernel=poly ...................................\n",
      "[CV] .................... C=10, gamma=auto, kernel=poly, total=   0.1s\n",
      "[CV] C=10, gamma=1, kernel=rbf .......................................\n",
      "[CV] ........................ C=10, gamma=1, kernel=rbf, total=   0.2s\n",
      "[CV] C=10, gamma=1, kernel=rbf .......................................\n",
      "[CV] ........................ C=10, gamma=1, kernel=rbf, total=   0.2s\n",
      "[CV] C=10, gamma=1, kernel=rbf .......................................\n",
      "[CV] ........................ C=10, gamma=1, kernel=rbf, total=   0.2s\n",
      "[CV] C=10, gamma=1, kernel=rbf .......................................\n",
      "[CV] ........................ C=10, gamma=1, kernel=rbf, total=   0.2s\n",
      "[CV] C=10, gamma=1, kernel=rbf .......................................\n",
      "[CV] ........................ C=10, gamma=1, kernel=rbf, total=   0.2s\n",
      "[CV] C=10, gamma=1, kernel=poly ......................................\n",
      "[CV] ....................... C=10, gamma=1, kernel=poly, total=   1.4s\n",
      "[CV] C=10, gamma=1, kernel=poly ......................................\n",
      "[CV] ....................... C=10, gamma=1, kernel=poly, total=   2.2s\n",
      "[CV] C=10, gamma=1, kernel=poly ......................................\n",
      "[CV] ....................... C=10, gamma=1, kernel=poly, total=   1.2s\n",
      "[CV] C=10, gamma=1, kernel=poly ......................................\n",
      "[CV] ....................... C=10, gamma=1, kernel=poly, total=   1.7s\n",
      "[CV] C=10, gamma=1, kernel=poly ......................................\n",
      "[CV] ....................... C=10, gamma=1, kernel=poly, total=   2.1s\n",
      "[CV] C=10, gamma=0.0001, kernel=rbf ..................................\n",
      "[CV] ................... C=10, gamma=0.0001, kernel=rbf, total=   0.1s\n",
      "[CV] C=10, gamma=0.0001, kernel=rbf ..................................\n",
      "[CV] ................... C=10, gamma=0.0001, kernel=rbf, total=   0.2s\n",
      "[CV] C=10, gamma=0.0001, kernel=rbf ..................................\n",
      "[CV] ................... C=10, gamma=0.0001, kernel=rbf, total=   0.1s\n",
      "[CV] C=10, gamma=0.0001, kernel=rbf ..................................\n",
      "[CV] ................... C=10, gamma=0.0001, kernel=rbf, total=   0.2s\n",
      "[CV] C=10, gamma=0.0001, kernel=rbf ..................................\n",
      "[CV] ................... C=10, gamma=0.0001, kernel=rbf, total=   0.2s\n",
      "[CV] C=10, gamma=0.0001, kernel=poly .................................\n",
      "[CV] .................. C=10, gamma=0.0001, kernel=poly, total=   0.1s\n",
      "[CV] C=10, gamma=0.0001, kernel=poly .................................\n",
      "[CV] .................. C=10, gamma=0.0001, kernel=poly, total=   0.1s\n",
      "[CV] C=10, gamma=0.0001, kernel=poly .................................\n",
      "[CV] .................. C=10, gamma=0.0001, kernel=poly, total=   0.1s\n",
      "[CV] C=10, gamma=0.0001, kernel=poly .................................\n",
      "[CV] .................. C=10, gamma=0.0001, kernel=poly, total=   0.1s\n",
      "[CV] C=10, gamma=0.0001, kernel=poly .................................\n",
      "[CV] .................. C=10, gamma=0.0001, kernel=poly, total=   0.1s\n",
      "{'C': 5, 'gamma': 'scale', 'kernel': 'rbf'}\n"
     ]
    },
    {
     "name": "stderr",
     "output_type": "stream",
     "text": [
      "[Parallel(n_jobs=1)]: Done 200 out of 200 | elapsed:  1.1min finished\n"
     ]
    }
   ],
   "source": [
    "parameters = [\n",
    "    {\n",
    "        'C' : [0.1, 0.5, 1, 5, 10],\n",
    "        'gamma' : ['scale', 'auto', 1, 0.0001],\n",
    "        'kernel' : ['rbf', 'poly']        \n",
    "    },\n",
    "]\n",
    "\n",
    "optimized_parameters = GridSearchCV(SVC(), parameters, cv = 5, scoring = 'accuracy', verbose = 2) \n",
    "optimized_parameters.fit(X_train, y_train)\n",
    "print(optimized_parameters.best_params_)"
   ]
  },
  {
   "cell_type": "code",
   "execution_count": 95,
   "metadata": {},
   "outputs": [
    {
     "data": {
      "text/plain": [
       "<sklearn.metrics._plot.confusion_matrix.ConfusionMatrixDisplay at 0x29663674430>"
      ]
     },
     "execution_count": 95,
     "metadata": {},
     "output_type": "execute_result"
    },
    {
     "data": {
      "image/png": "[encoded data removed]",
      "text/plain": [
       "<Figure size 432x288 with 2 Axes>"
      ]
     },
     "metadata": {
      "needs_background": "light"
     },
     "output_type": "display_data"
    }
   ],
   "source": [
    "# We found C = 5, gamma = 'scale' and kernel = 'rbf' is the best parameter combination\n",
    "# Let us make another optimized classifier using these parameters\n",
    "\n",
    "optimized_model_svm = SVC(random_state = 42, C = 5, gamma = 'scale', kernel = 'rbf')\n",
    "optimized_model_svm.fit(X_train, y_train)\n",
    "plot_confusion_matrix(optimized_model_svm, X_test, y_test, values_format = 'd',\n",
    "                     display_labels = ['Regular', 'Failed'])"
   ]
  },
  {
   "cell_type": "code",
   "execution_count": null,
   "metadata": {},
   "outputs": [],
   "source": []
  }
 ],
 "metadata": {
  "kernelspec": {
   "display_name": "Python 3",
   "language": "python",
   "name": "python3"
  },
  "language_info": {
   "codemirror_mode": {
    "name": "ipython",
    "version": 3
   },
   "file_extension": ".py",
   "mimetype": "text/x-python",
   "name": "python",
   "nbconvert_exporter": "python",
   "pygments_lexer": "ipython3",
   "version": "3.8.5"
  }
 },
 "nbformat": 4,
 "nbformat_minor": 4
}
