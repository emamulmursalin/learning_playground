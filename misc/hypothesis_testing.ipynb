{
 "cells": [
  {
   "cell_type": "markdown",
   "id": "alert-allah",
   "metadata": {},
   "source": [
    "# t-test, ANOVA and chi-squared"
   ]
  },
  {
   "cell_type": "markdown",
   "id": "existing-acceptance",
   "metadata": {},
   "source": [
    "In this script we will discuss what are t-test, ANOVA and chi-squared test, why they are used and how to use them in an effective way."
   ]
  },
  {
   "cell_type": "markdown",
   "id": "friendly-middle",
   "metadata": {},
   "source": [
    "##### Hypothesis testing\n",
    "It is a statistical way to test the correctness of a hypothesis (\"educated guess\") using mathematical equations & tools. As example, let's say we have a dataset with 10 variables. If we \"guess\" by seeing some plots or distribution that there are two variables which are much correlated, then this guess is called Hypothesis. Statistical checking procedures of the validity of this hypothesis are called Hypothesis Testing. \"t-test\", \"ANOVA\", \"chi-squared\", \"correlation\" these are some of the hypothesis testing techniques."
   ]
  },
  {
   "cell_type": "markdown",
   "id": "prepared-castle",
   "metadata": {},
   "source": [
    "##### t-test\n",
    "t-test is a statistic that check if two meeans are reliably different from each other. It measures the t-value which is the ratio of \"variance between two groups (or two variables)\" to \"variance within the groups\". If the t-value is not large enough, than we can say that there is not enough evidence to that those two groups are similar.\n",
    "\n",
    "\n",
    "p-vlaue is the probability that the pattern of the data samples is randomly produced. We calculate p-value from corresponding t-value. If the p-value is low, it means there is very low probability that the pattern we found is randomly produced."
   ]
  },
  {
   "cell_type": "markdown",
   "id": "activated-solution",
   "metadata": {},
   "source": [
    "##### ANOVA  (Analysis of Variance) - F score\n",
    "\n",
    "ANOVA is a statistical method that separates observed variance data into different components to use for additional tests. \n",
    "\n",
    "- A one-way ANOVA is used for three or more groups of data, to gain information about the relationship between the dependent and independent variables.\n",
    "\n",
    "- A two-way ANOVA tests the effect of two independent variables on a dependent variable. A two-way ANOVA test analyzes the effect of the independent variables on the expected outcome along with their relationship to the outcome itself.\n",
    "\n",
    "Here we calculate the F-score from the variances of the data and if the F-Score is larg enough to fall within rejection area, we reject the null hypothesis."
   ]
  },
  {
   "cell_type": "markdown",
   "id": "conditional-rabbit",
   "metadata": {},
   "source": [
    "##### Chi Squared Value\n",
    "\n",
    "A chi-square statistic is one way to show a relationship between two categorical variables. The chi-squared statistic is a single number that shows how much difference exists between the observed counts and the counts we would expect if there were no relationship at all in the population. A low value for chi-square means there is a high correlation between two sets of data. "
   ]
  },
  {
   "cell_type": "markdown",
   "id": "institutional-drill",
   "metadata": {},
   "source": [
    "#### Which statistic to use ?\n",
    "\n",
    "This depends on two factors. These are : \n",
    "- Purpose: Is it a relationship probelm (any connection or correlation) or a comparison problem (any difference)?\n",
    "- Type of Data: Is the feature value categorical or numerical?\n",
    "\n",
    "On the basis of these two factors, we have to use the statistic as follow:\n",
    "\n",
    "Comparison Problem + Categorical type Data -> Chi-Squared\n",
    "\n",
    "Comparison Problem + Categorical AND Numeric type Data -> t-test or ANOVA\n",
    "\n",
    "Relationship Problem + Numeric type Data -> Correlation\n"
   ]
  },
  {
   "cell_type": "code",
   "execution_count": 1,
   "id": "particular-truck",
   "metadata": {},
   "outputs": [],
   "source": [
    "# To see the implementation, lets first import the libraries and load the dataset"
   ]
  },
  {
   "cell_type": "code",
   "execution_count": 3,
   "id": "present-artwork",
   "metadata": {},
   "outputs": [],
   "source": [
    "import numpy as np\n",
    "import pandas as pd\n",
    "import seaborn as sns\n",
    "from matplotlib import pyplot as plt\n",
    "%matplotlib inline\n",
    "from scipy import stats"
   ]
  },
  {
   "cell_type": "code",
   "execution_count": 11,
   "id": "instructional-little",
   "metadata": {},
   "outputs": [
    {
     "data": {
      "text/html": [
       "<div>\n",
       "<style scoped>\n",
       "    .dataframe tbody tr th:only-of-type {\n",
       "        vertical-align: middle;\n",
       "    }\n",
       "\n",
       "    .dataframe tbody tr th {\n",
       "        vertical-align: top;\n",
       "    }\n",
       "\n",
       "    .dataframe thead th {\n",
       "        text-align: right;\n",
       "    }\n",
       "</style>\n",
       "<table border=\"1\" class=\"dataframe\">\n",
       "  <thead>\n",
       "    <tr style=\"text-align: right;\">\n",
       "      <th></th>\n",
       "      <th>minority</th>\n",
       "      <th>age</th>\n",
       "      <th>gender</th>\n",
       "      <th>credits</th>\n",
       "      <th>beauty</th>\n",
       "      <th>eval</th>\n",
       "      <th>division</th>\n",
       "      <th>native</th>\n",
       "      <th>tenure</th>\n",
       "      <th>students</th>\n",
       "      <th>allstudents</th>\n",
       "      <th>prof</th>\n",
       "      <th>PrimaryLast</th>\n",
       "      <th>vismin</th>\n",
       "      <th>female</th>\n",
       "      <th>single_credit</th>\n",
       "      <th>upper_division</th>\n",
       "      <th>English_speaker</th>\n",
       "      <th>tenured_prof</th>\n",
       "    </tr>\n",
       "  </thead>\n",
       "  <tbody>\n",
       "    <tr>\n",
       "      <th>0</th>\n",
       "      <td>yes</td>\n",
       "      <td>36</td>\n",
       "      <td>female</td>\n",
       "      <td>more</td>\n",
       "      <td>0.289916</td>\n",
       "      <td>4.3</td>\n",
       "      <td>upper</td>\n",
       "      <td>yes</td>\n",
       "      <td>yes</td>\n",
       "      <td>24</td>\n",
       "      <td>43</td>\n",
       "      <td>1</td>\n",
       "      <td>0</td>\n",
       "      <td>1</td>\n",
       "      <td>1</td>\n",
       "      <td>0</td>\n",
       "      <td>1</td>\n",
       "      <td>1</td>\n",
       "      <td>1</td>\n",
       "    </tr>\n",
       "    <tr>\n",
       "      <th>1</th>\n",
       "      <td>yes</td>\n",
       "      <td>36</td>\n",
       "      <td>female</td>\n",
       "      <td>more</td>\n",
       "      <td>0.289916</td>\n",
       "      <td>3.7</td>\n",
       "      <td>upper</td>\n",
       "      <td>yes</td>\n",
       "      <td>yes</td>\n",
       "      <td>86</td>\n",
       "      <td>125</td>\n",
       "      <td>1</td>\n",
       "      <td>0</td>\n",
       "      <td>1</td>\n",
       "      <td>1</td>\n",
       "      <td>0</td>\n",
       "      <td>1</td>\n",
       "      <td>1</td>\n",
       "      <td>1</td>\n",
       "    </tr>\n",
       "    <tr>\n",
       "      <th>2</th>\n",
       "      <td>yes</td>\n",
       "      <td>36</td>\n",
       "      <td>female</td>\n",
       "      <td>more</td>\n",
       "      <td>0.289916</td>\n",
       "      <td>3.6</td>\n",
       "      <td>upper</td>\n",
       "      <td>yes</td>\n",
       "      <td>yes</td>\n",
       "      <td>76</td>\n",
       "      <td>125</td>\n",
       "      <td>1</td>\n",
       "      <td>0</td>\n",
       "      <td>1</td>\n",
       "      <td>1</td>\n",
       "      <td>0</td>\n",
       "      <td>1</td>\n",
       "      <td>1</td>\n",
       "      <td>1</td>\n",
       "    </tr>\n",
       "    <tr>\n",
       "      <th>3</th>\n",
       "      <td>yes</td>\n",
       "      <td>36</td>\n",
       "      <td>female</td>\n",
       "      <td>more</td>\n",
       "      <td>0.289916</td>\n",
       "      <td>4.4</td>\n",
       "      <td>upper</td>\n",
       "      <td>yes</td>\n",
       "      <td>yes</td>\n",
       "      <td>77</td>\n",
       "      <td>123</td>\n",
       "      <td>1</td>\n",
       "      <td>1</td>\n",
       "      <td>1</td>\n",
       "      <td>1</td>\n",
       "      <td>0</td>\n",
       "      <td>1</td>\n",
       "      <td>1</td>\n",
       "      <td>1</td>\n",
       "    </tr>\n",
       "    <tr>\n",
       "      <th>4</th>\n",
       "      <td>no</td>\n",
       "      <td>59</td>\n",
       "      <td>male</td>\n",
       "      <td>more</td>\n",
       "      <td>-0.737732</td>\n",
       "      <td>4.5</td>\n",
       "      <td>upper</td>\n",
       "      <td>yes</td>\n",
       "      <td>yes</td>\n",
       "      <td>17</td>\n",
       "      <td>20</td>\n",
       "      <td>2</td>\n",
       "      <td>0</td>\n",
       "      <td>0</td>\n",
       "      <td>0</td>\n",
       "      <td>0</td>\n",
       "      <td>1</td>\n",
       "      <td>1</td>\n",
       "      <td>1</td>\n",
       "    </tr>\n",
       "  </tbody>\n",
       "</table>\n",
       "</div>"
      ],
      "text/plain": [
       "  minority  age  gender credits    beauty  eval division native tenure  \\\n",
       "0      yes   36  female    more  0.289916   4.3    upper    yes    yes   \n",
       "1      yes   36  female    more  0.289916   3.7    upper    yes    yes   \n",
       "2      yes   36  female    more  0.289916   3.6    upper    yes    yes   \n",
       "3      yes   36  female    more  0.289916   4.4    upper    yes    yes   \n",
       "4       no   59    male    more -0.737732   4.5    upper    yes    yes   \n",
       "\n",
       "   students  allstudents  prof  PrimaryLast  vismin  female  single_credit  \\\n",
       "0        24           43     1            0       1       1              0   \n",
       "1        86          125     1            0       1       1              0   \n",
       "2        76          125     1            0       1       1              0   \n",
       "3        77          123     1            1       1       1              0   \n",
       "4        17           20     2            0       0       0              0   \n",
       "\n",
       "   upper_division  English_speaker  tenured_prof  \n",
       "0               1                1             1  \n",
       "1               1                1             1  \n",
       "2               1                1             1  \n",
       "3               1                1             1  \n",
       "4               1                1             1  "
      ]
     },
     "execution_count": 11,
     "metadata": {},
     "output_type": "execute_result"
    }
   ],
   "source": [
    "rating = pd.read_csv('teachingratings.csv')\n",
    "rating.head()"
   ]
  },
  {
   "cell_type": "code",
   "execution_count": 6,
   "id": "helpful-advancement",
   "metadata": {},
   "outputs": [],
   "source": [
    "# Now we will find validity of three different relationships and test them using three techniques"
   ]
  },
  {
   "cell_type": "markdown",
   "id": "psychological-steps",
   "metadata": {},
   "source": [
    "##### t-test implementation"
   ]
  },
  {
   "cell_type": "code",
   "execution_count": 8,
   "id": "cleared-basement",
   "metadata": {},
   "outputs": [],
   "source": [
    "# Q1: Does the gender affect teaching evaluation scores?\n",
    "# Lets assume that gender does not affect the evaluation scores\n",
    "# So, null hypothesis, H0 : There is no affect of gender on the evaluation scores\n",
    "# And alternative hypothesis, H1 : There is affect of gender on the evaluation scores"
   ]
  },
  {
   "cell_type": "code",
   "execution_count": 94,
   "id": "deadly-rogers",
   "metadata": {},
   "outputs": [],
   "source": [
    "# The \"gender\" feature is categorical and \"eval(evaluation scores)\" is numerical\n",
    "# So we can use either t-test or ANOVA to evaluate the hypothesis\n",
    "# To do t-test and ANOVA we need to do first the homogeneity of variance(HOV) test\n",
    "# If the variance is not homogeneous, then t-test can not be an effective choice\n",
    "# We will use Levene's test to find HOV\n",
    "# If the p-value of Levene's test is greater than 0.05, than HOV is assumed to be present"
   ]
  },
  {
   "cell_type": "code",
   "execution_count": 14,
   "id": "narrative-manchester",
   "metadata": {},
   "outputs": [
    {
     "data": {
      "text/plain": [
       "LeveneResult(statistic=0.19032922435292574, pvalue=0.6628469836244741)"
      ]
     },
     "execution_count": 14,
     "metadata": {},
     "output_type": "execute_result"
    }
   ],
   "source": [
    "stats.levene(rating[rating['gender'] == 'male']['eval'], rating[rating['gender'] == 'female']['eval'],\n",
    "               center = 'mean')"
   ]
  },
  {
   "cell_type": "code",
   "execution_count": 16,
   "id": "adult-attention",
   "metadata": {},
   "outputs": [],
   "source": [
    "# The pvalue of Levene's test is 0.66 which is much greater than 0.05\n",
    "# It shows the variance is homogeneous\n",
    "# We can now perform t-test"
   ]
  },
  {
   "cell_type": "code",
   "execution_count": 17,
   "id": "focused-suffering",
   "metadata": {},
   "outputs": [
    {
     "data": {
      "text/plain": [
       "Ttest_indResult(statistic=3.249937943510772, pvalue=0.0012387609449522217)"
      ]
     },
     "execution_count": 17,
     "metadata": {},
     "output_type": "execute_result"
    }
   ],
   "source": [
    "stats.ttest_ind(rating[rating['gender'] == 'male']['eval'], rating[rating['gender'] == 'female']['eval'],\n",
    "               equal_var = True)"
   ]
  },
  {
   "cell_type": "code",
   "execution_count": 52,
   "id": "scheduled-cambodia",
   "metadata": {},
   "outputs": [],
   "source": [
    "# The p_value of the t-test is lower than 0.05. So we can reject the null hypothesis\n",
    "# i.e. Gender has effect on evaluation score variable"
   ]
  },
  {
   "cell_type": "markdown",
   "id": "allied-wilderness",
   "metadata": {},
   "source": [
    "##### ANOVA test implementation"
   ]
  },
  {
   "cell_type": "code",
   "execution_count": 93,
   "id": "descending-revelation",
   "metadata": {},
   "outputs": [],
   "source": [
    "# Q2: Is there any relationship between age and beauty_score?\n",
    "# Lets assume that age and beauty_score is not correlated\n",
    "# So, null hypothesis, H0 : There is no relation between age and beauty_score \n",
    "                                # (i.e. three population means are equal)\n",
    "# And alternative hypothesis, H1 : There is a relation between age and beauty_score\n",
    "                                # (i.e. there is a difference among these three population means)"
   ]
  },
  {
   "cell_type": "code",
   "execution_count": 87,
   "id": "deadly-negotiation",
   "metadata": {},
   "outputs": [],
   "source": [
    "# The \"age\" & \"beauty_score\" features are both numerical \n",
    "# It is not very practical to see the variability of beauty score with each unique age values\n",
    "# So we will divide \"age\" feature into three groups and make it as categorical\n",
    "# We can use ANOVA to evaluate the hypothesis"
   ]
  },
  {
   "cell_type": "code",
   "execution_count": 81,
   "id": "worthy-warning",
   "metadata": {},
   "outputs": [],
   "source": [
    "# First create a column with three different age groups\n",
    "\n",
    "rating['age_category'] = rating['age'].apply( lambda x: 'young' if x<40 \n",
    "                                             else ('middle_aged' if 40<x<57 else 'senior' ))"
   ]
  },
  {
   "cell_type": "code",
   "execution_count": 79,
   "id": "printable-johnston",
   "metadata": {},
   "outputs": [
    {
     "data": {
      "text/plain": [
       "LeveneResult(statistic=6.9340131620932075, pvalue=0.0010791898776245528)"
      ]
     },
     "execution_count": 79,
     "metadata": {},
     "output_type": "execute_result"
    }
   ],
   "source": [
    "# As like t-tesst, we have to measure equality of variance \n",
    "\n",
    "stats.levene(rating[rating['age_category']=='young']['beauty'],\n",
    "                   rating[rating['age_category']=='middle_aged']['beauty'], \n",
    "                   rating[rating['age_category']=='senior']['beauty'], \n",
    "                   center='mean')"
   ]
  },
  {
   "cell_type": "code",
   "execution_count": 82,
   "id": "revolutionary-terminology",
   "metadata": {},
   "outputs": [],
   "source": [
    "# p_value is lower than 0.05 so we can run the ANOVA test"
   ]
  },
  {
   "cell_type": "code",
   "execution_count": 91,
   "id": "tight-assumption",
   "metadata": {},
   "outputs": [
    {
     "name": "stdout",
     "output_type": "stream",
     "text": [
      "24.709209313848543 6.414064422300409e-11\n"
     ]
    }
   ],
   "source": [
    "# Let's give aliases to those series from three different categories data\n",
    "\n",
    "young = rating[rating['age_category']=='young']['beauty']\n",
    "middle_aged = rating[rating['age_category']=='middle_aged']['beauty']\n",
    "senior = rating[rating['age_category']=='senior']['beauty']\n",
    "\n",
    "\n",
    "# Now running the ANOVA test\n",
    "\n",
    "f_value_anova, p_value_anova = stats.f_oneway(young, middle_aged, senior)\n",
    "print(f_value_anova, p_value_anova)"
   ]
  },
  {
   "cell_type": "code",
   "execution_count": 88,
   "id": "artificial-kitty",
   "metadata": {},
   "outputs": [],
   "source": [
    "# p_value is less than 0.05 which means that we can reject the null hypothesis\n",
    "# So, there is not relation with the age and beauty score"
   ]
  },
  {
   "cell_type": "markdown",
   "id": "speaking-chambers",
   "metadata": {},
   "source": [
    "##### Chi Squared Test implementation"
   ]
  },
  {
   "cell_type": "code",
   "execution_count": 95,
   "id": "magnetic-hebrew",
   "metadata": {},
   "outputs": [],
   "source": [
    "# Q3: Is there any relationship between gender and tenure?\n",
    "# Lets assume that gender and tenure is not correlated\n",
    "# So, null hypothesis, H0 : There is no relation between gender and tenure\n",
    "                                # (i.e. the tenure status is independant of gender)\n",
    "# And alternative hypothesis, H1 : There is a relation between gender and tenure\n",
    "                                # (i.e. the tenure status is dependant on gender)"
   ]
  },
  {
   "cell_type": "code",
   "execution_count": 96,
   "id": "curious-mechanics",
   "metadata": {},
   "outputs": [],
   "source": [
    "# The \"gender\" & \"tenure\" features are both categorical \n",
    "# We can use chi-squared test to evaluate the hypothesis"
   ]
  },
  {
   "cell_type": "code",
   "execution_count": 98,
   "id": "anticipated-sensitivity",
   "metadata": {},
   "outputs": [
    {
     "data": {
      "text/html": [
       "<div>\n",
       "<style scoped>\n",
       "    .dataframe tbody tr th:only-of-type {\n",
       "        vertical-align: middle;\n",
       "    }\n",
       "\n",
       "    .dataframe tbody tr th {\n",
       "        vertical-align: top;\n",
       "    }\n",
       "\n",
       "    .dataframe thead th {\n",
       "        text-align: right;\n",
       "    }\n",
       "</style>\n",
       "<table border=\"1\" class=\"dataframe\">\n",
       "  <thead>\n",
       "    <tr style=\"text-align: right;\">\n",
       "      <th>gender</th>\n",
       "      <th>female</th>\n",
       "      <th>male</th>\n",
       "    </tr>\n",
       "    <tr>\n",
       "      <th>tenure</th>\n",
       "      <th></th>\n",
       "      <th></th>\n",
       "    </tr>\n",
       "  </thead>\n",
       "  <tbody>\n",
       "    <tr>\n",
       "      <th>no</th>\n",
       "      <td>50</td>\n",
       "      <td>52</td>\n",
       "    </tr>\n",
       "    <tr>\n",
       "      <th>yes</th>\n",
       "      <td>145</td>\n",
       "      <td>216</td>\n",
       "    </tr>\n",
       "  </tbody>\n",
       "</table>\n",
       "</div>"
      ],
      "text/plain": [
       "gender  female  male\n",
       "tenure              \n",
       "no          50    52\n",
       "yes        145   216"
      ]
     },
     "execution_count": 98,
     "metadata": {},
     "output_type": "execute_result"
    }
   ],
   "source": [
    "# First we need to create a crosstable \n",
    "\n",
    "cross_table = pd.crosstab(rating['tenure'], rating['gender'])\n",
    "cross_table"
   ]
  },
  {
   "cell_type": "code",
   "execution_count": 102,
   "id": "failing-listing",
   "metadata": {},
   "outputs": [
    {
     "data": {
      "text/plain": [
       "(2.20678166999886,\n",
       " 0.1374050603563787,\n",
       " 1,\n",
       " array([[ 42.95896328,  59.04103672],\n",
       "        [152.04103672, 208.95896328]]))"
      ]
     },
     "execution_count": 102,
     "metadata": {},
     "output_type": "execute_result"
    }
   ],
   "source": [
    "# Now running the chi squared test\n",
    "\n",
    "stats.chi2_contingency(cross_table, correction = True)"
   ]
  },
  {
   "cell_type": "code",
   "execution_count": 101,
   "id": "bacterial-cleanup",
   "metadata": {},
   "outputs": [],
   "source": [
    "# It returns the 𝜒2 value, p_value, degree of freedom and expected values respectively\n",
    "# We found that the p_value is 0.137 which is much higher than 0.05\n",
    "# We can not reject the null hypothesis\n",
    "# So there is no strong evidence that the tenure is dependant on gender"
   ]
  }
 ],
 "metadata": {
  "kernelspec": {
   "display_name": "Python 3",
   "language": "python",
   "name": "python3"
  },
  "language_info": {
   "codemirror_mode": {
    "name": "ipython",
    "version": 3
   },
   "file_extension": ".py",
   "mimetype": "text/x-python",
   "name": "python",
   "nbconvert_exporter": "python",
   "pygments_lexer": "ipython3",
   "version": "3.8.5"
  }
 },
 "nbformat": 4,
 "nbformat_minor": 5
}
