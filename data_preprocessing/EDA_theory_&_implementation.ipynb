{
 "cells": [
  {
   "cell_type": "markdown",
   "id": "color-kitty",
   "metadata": {},
   "source": [
    "# *WORK IN PROGRESS"
   ]
  },
  {
   "cell_type": "markdown",
   "id": "later-message",
   "metadata": {},
   "source": [
    "## Steps of Exploratory Data Analysis\n",
    "\n",
    "Many data scientists have defined the steps of EDA differently. I have summarized the steps as follow:\n",
    "\n",
    "1. Identifying the variables and target.\n",
    "2. Handling missing value and duplicate row-columns\n",
    "3. Handling imblanceness of dataset & skewness of features\n",
    "4. Identification of variables and data types\n",
    "5. Variable/Feature transformations & creations\n",
    "6. Univariate Analysis\n",
    "7. Handling Outliers\n",
    "8. Bi-variate Analysis\n",
    "9. Correlation Analysis\n",
    "10. Dimensionality reduction\n"
   ]
  },
  {
   "cell_type": "markdown",
   "id": "abroad-allowance",
   "metadata": {},
   "source": [
    "The order of the above tasks are not always same. There are many times we might have to do it randomly or have to come back to an earlier step."
   ]
  }
 ],
 "metadata": {
  "kernelspec": {
   "display_name": "Python 3",
   "language": "python",
   "name": "python3"
  },
  "language_info": {
   "codemirror_mode": {
    "name": "ipython",
    "version": 3
   },
   "file_extension": ".py",
   "mimetype": "text/x-python",
   "name": "python",
   "nbconvert_exporter": "python",
   "pygments_lexer": "ipython3",
   "version": "3.8.5"
  }
 },
 "nbformat": 4,
 "nbformat_minor": 5
}
