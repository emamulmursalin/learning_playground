{
 "cells": [
  {
   "cell_type": "markdown",
   "metadata": {},
   "source": [
    "## Regularization\n",
    "Regularization is a technique to reduce one of most common issues in machine learning named Overfitting. It makes slight deviation to the learning pattern of a machine learning algorithm so that it does not follow \"exactly\" the training data. In classical machine learning algorithms, Regularization penalize the coefficients and in deep learning networks it penalize the metrices weight of the nodes. \n",
    "\n",
    "\n",
    "To reduce the overfitting we can just simply reduce the number of parameters to decrease the variance. But in this notebook, we will keep all the parameters and implement various regularization techniques to reduce the overfitting. "
   ]
  },
  {
   "cell_type": "markdown",
   "metadata": {},
   "source": [
    "#### Dropout\n",
    "Dropout is a technique to remove a random number of activated neurons from a neural network layer. It can be implemented on every layer (also on input layer) separately and independantly. Dropout dedcuts the neurons randomly for each iteration. So this randomness makes the model to act as an \"Ensembled algorithm\"."
   ]
  },
  {
   "cell_type": "markdown",
   "metadata": {},
   "source": [
    "#### Batch Normalization\n",
    "Batch normalization is a technique for training very deep neural networks that standardizes the inputs to any layer for each mini-batch. During the training of a NN, the weights are continuously updating and it causes covarince shifting. We also lost the advantage of using standardized data just after the first layer because the data is no longer standardized after one layer with activation. In this case we can normalize the data again before feeding to next layer. Batch normalization is not directly a regularizaiton parameter rather it slightly helps to reduce overfitting when using along with Dropout. But some researchers also suggested not to used Dropout while using Batch normalization. \n",
    "\n",
    "Normally the Batch normalization is used after a layer with activation and before a Dropout layer. "
   ]
  },
  {
   "cell_type": "markdown",
   "metadata": {},
   "source": [
    "#### Data Augmentation\n",
    "Increasing the amount of training data is likable approach to reduce overfitting. Data augmentation is a technique to create more training data by shifting, zooming, cropping, changing the brightness, flipping or toggling the images (or training data). "
   ]
  },
  {
   "cell_type": "markdown",
   "metadata": {},
   "source": [
    "#### Early Stopping\n",
    "Early stopping means interrupting the training process at that point where test set error stops ( or even start to increase) improving/decreasing along with training set error. "
   ]
  },
  {
   "cell_type": "markdown",
   "metadata": {},
   "source": [
    "#### L1 & L2 Regularization\n",
    "These are techniques to add penalty to the calculated loss function and add a small amount of bias. This small change in bias results a big drop in variance hence reduce the overfitting. These two regularization creates two regression lines which have lower slope than the original line. Lower slope means that the prediction or dependant variable is \"less\" sensetive to the input or independant variables.\n",
    "\n",
    "\n",
    "##### L1 Regularization \n",
    "It adds “absolute value of magnitude” of coefficient as penalty term to the loss function. The model uses L1 regularization is called as or Lasso Regression.\n",
    "\n",
    "##### L2 Regularization\n",
    "It adds “squared value of magnitude” of coefficient as penalty term to the loss function. The model uses L2 regularization is called as or Ridge Regression.\n",
    "\n",
    "##### Choosing between L1 & L2\n",
    "\n",
    "- Lasso Regression or L1 regularization are used when there is a large number of useless features.\n",
    "\n",
    "\n",
    "- Ridge Regression or L2 regularization works every well when there less number of samples but big number of features. So L1 is used when there features are useful.\n"
   ]
  },
  {
   "cell_type": "markdown",
   "metadata": {},
   "source": [
    "- In this notebook we will implement all of the techniques described above and see the effect of them on a Neural Network model.\n",
    "\n",
    "- For experiment we will use the chinese mnist dataset (downloaded from Kaggle)"
   ]
  },
  {
   "cell_type": "markdown",
   "metadata": {},
   "source": [
    "# Starting Heart Failure Project"
   ]
  },
  {
   "cell_type": "code",
   "execution_count": 150,
   "metadata": {},
   "outputs": [],
   "source": [
    "# Importing the important libraries and modules for this project\n",
    "\n",
    "import numpy as np\n",
    "import pandas as pd\n",
    "import matplotlib.pyplot as plt\n",
    "import seaborn as sns\n",
    "import tensorflow as tf\n",
    "\n",
    "\n",
    "from sklearn import preprocessing\n",
    "from sklearn.model_selection import train_test_split\n",
    "from sklearn.metrics import confusion_matrix\n",
    "from tensorflow.keras.layers import Dense, Input, Dropout\n",
    "from tensorflow.keras.models import Model"
   ]
  },
  {
   "cell_type": "code",
   "execution_count": 151,
   "metadata": {},
   "outputs": [
    {
     "data": {
      "text/html": [
       "<div>\n",
       "<style scoped>\n",
       "    .dataframe tbody tr th:only-of-type {\n",
       "        vertical-align: middle;\n",
       "    }\n",
       "\n",
       "    .dataframe tbody tr th {\n",
       "        vertical-align: top;\n",
       "    }\n",
       "\n",
       "    .dataframe thead th {\n",
       "        text-align: right;\n",
       "    }\n",
       "</style>\n",
       "<table border=\"1\" class=\"dataframe\">\n",
       "  <thead>\n",
       "    <tr style=\"text-align: right;\">\n",
       "      <th></th>\n",
       "      <th>age</th>\n",
       "      <th>anaemia</th>\n",
       "      <th>creatinine_phosphokinase</th>\n",
       "      <th>diabetes</th>\n",
       "      <th>ejection_fraction</th>\n",
       "      <th>high_blood_pressure</th>\n",
       "      <th>platelets</th>\n",
       "      <th>serum_creatinine</th>\n",
       "      <th>serum_sodium</th>\n",
       "      <th>sex</th>\n",
       "      <th>smoking</th>\n",
       "      <th>time</th>\n",
       "      <th>DEATH_EVENT</th>\n",
       "    </tr>\n",
       "  </thead>\n",
       "  <tbody>\n",
       "    <tr>\n",
       "      <th>0</th>\n",
       "      <td>75.0</td>\n",
       "      <td>0</td>\n",
       "      <td>582</td>\n",
       "      <td>0</td>\n",
       "      <td>20</td>\n",
       "      <td>1</td>\n",
       "      <td>265000.00</td>\n",
       "      <td>1.9</td>\n",
       "      <td>130</td>\n",
       "      <td>1</td>\n",
       "      <td>0</td>\n",
       "      <td>4</td>\n",
       "      <td>1</td>\n",
       "    </tr>\n",
       "    <tr>\n",
       "      <th>1</th>\n",
       "      <td>55.0</td>\n",
       "      <td>0</td>\n",
       "      <td>7861</td>\n",
       "      <td>0</td>\n",
       "      <td>38</td>\n",
       "      <td>0</td>\n",
       "      <td>263358.03</td>\n",
       "      <td>1.1</td>\n",
       "      <td>136</td>\n",
       "      <td>1</td>\n",
       "      <td>0</td>\n",
       "      <td>6</td>\n",
       "      <td>1</td>\n",
       "    </tr>\n",
       "    <tr>\n",
       "      <th>2</th>\n",
       "      <td>65.0</td>\n",
       "      <td>0</td>\n",
       "      <td>146</td>\n",
       "      <td>0</td>\n",
       "      <td>20</td>\n",
       "      <td>0</td>\n",
       "      <td>162000.00</td>\n",
       "      <td>1.3</td>\n",
       "      <td>129</td>\n",
       "      <td>1</td>\n",
       "      <td>1</td>\n",
       "      <td>7</td>\n",
       "      <td>1</td>\n",
       "    </tr>\n",
       "    <tr>\n",
       "      <th>3</th>\n",
       "      <td>50.0</td>\n",
       "      <td>1</td>\n",
       "      <td>111</td>\n",
       "      <td>0</td>\n",
       "      <td>20</td>\n",
       "      <td>0</td>\n",
       "      <td>210000.00</td>\n",
       "      <td>1.9</td>\n",
       "      <td>137</td>\n",
       "      <td>1</td>\n",
       "      <td>0</td>\n",
       "      <td>7</td>\n",
       "      <td>1</td>\n",
       "    </tr>\n",
       "    <tr>\n",
       "      <th>4</th>\n",
       "      <td>65.0</td>\n",
       "      <td>1</td>\n",
       "      <td>160</td>\n",
       "      <td>1</td>\n",
       "      <td>20</td>\n",
       "      <td>0</td>\n",
       "      <td>327000.00</td>\n",
       "      <td>2.7</td>\n",
       "      <td>116</td>\n",
       "      <td>0</td>\n",
       "      <td>0</td>\n",
       "      <td>8</td>\n",
       "      <td>1</td>\n",
       "    </tr>\n",
       "  </tbody>\n",
       "</table>\n",
       "</div>"
      ],
      "text/plain": [
       "    age  anaemia  creatinine_phosphokinase  diabetes  ejection_fraction  \\\n",
       "0  75.0        0                       582         0                 20   \n",
       "1  55.0        0                      7861         0                 38   \n",
       "2  65.0        0                       146         0                 20   \n",
       "3  50.0        1                       111         0                 20   \n",
       "4  65.0        1                       160         1                 20   \n",
       "\n",
       "   high_blood_pressure  platelets  serum_creatinine  serum_sodium  sex  \\\n",
       "0                    1  265000.00               1.9           130    1   \n",
       "1                    0  263358.03               1.1           136    1   \n",
       "2                    0  162000.00               1.3           129    1   \n",
       "3                    0  210000.00               1.9           137    1   \n",
       "4                    0  327000.00               2.7           116    0   \n",
       "\n",
       "   smoking  time  DEATH_EVENT  \n",
       "0        0     4            1  \n",
       "1        0     6            1  \n",
       "2        1     7            1  \n",
       "3        0     7            1  \n",
       "4        0     8            1  "
      ]
     },
     "execution_count": 151,
     "metadata": {},
     "output_type": "execute_result"
    }
   ],
   "source": [
    "# Loading the dataset\n",
    "\n",
    "df = pd.read_csv('heart_failure_clinical_records_dataset.csv')\n",
    "df.head()"
   ]
  },
  {
   "cell_type": "code",
   "execution_count": 152,
   "metadata": {},
   "outputs": [
    {
     "name": "stdout",
     "output_type": "stream",
     "text": [
      "<class 'pandas.core.frame.DataFrame'>\n",
      "RangeIndex: 299 entries, 0 to 298\n",
      "Data columns (total 13 columns):\n",
      " #   Column                    Non-Null Count  Dtype  \n",
      "---  ------                    --------------  -----  \n",
      " 0   age                       299 non-null    float64\n",
      " 1   anaemia                   299 non-null    int64  \n",
      " 2   creatinine_phosphokinase  299 non-null    int64  \n",
      " 3   diabetes                  299 non-null    int64  \n",
      " 4   ejection_fraction         299 non-null    int64  \n",
      " 5   high_blood_pressure       299 non-null    int64  \n",
      " 6   platelets                 299 non-null    float64\n",
      " 7   serum_creatinine          299 non-null    float64\n",
      " 8   serum_sodium              299 non-null    int64  \n",
      " 9   sex                       299 non-null    int64  \n",
      " 10  smoking                   299 non-null    int64  \n",
      " 11  time                      299 non-null    int64  \n",
      " 12  DEATH_EVENT               299 non-null    int64  \n",
      "dtypes: float64(3), int64(10)\n",
      "memory usage: 30.5 KB\n"
     ]
    }
   ],
   "source": [
    "df.info()"
   ]
  },
  {
   "cell_type": "code",
   "execution_count": 153,
   "metadata": {},
   "outputs": [
    {
     "data": {
      "text/html": [
       "<div>\n",
       "<style scoped>\n",
       "    .dataframe tbody tr th:only-of-type {\n",
       "        vertical-align: middle;\n",
       "    }\n",
       "\n",
       "    .dataframe tbody tr th {\n",
       "        vertical-align: top;\n",
       "    }\n",
       "\n",
       "    .dataframe thead th {\n",
       "        text-align: right;\n",
       "    }\n",
       "</style>\n",
       "<table border=\"1\" class=\"dataframe\">\n",
       "  <thead>\n",
       "    <tr style=\"text-align: right;\">\n",
       "      <th></th>\n",
       "      <th>count</th>\n",
       "      <th>mean</th>\n",
       "      <th>std</th>\n",
       "      <th>min</th>\n",
       "      <th>25%</th>\n",
       "      <th>50%</th>\n",
       "      <th>75%</th>\n",
       "      <th>max</th>\n",
       "    </tr>\n",
       "  </thead>\n",
       "  <tbody>\n",
       "    <tr>\n",
       "      <th>age</th>\n",
       "      <td>299.0</td>\n",
       "      <td>60.833893</td>\n",
       "      <td>11.894809</td>\n",
       "      <td>40.0</td>\n",
       "      <td>51.0</td>\n",
       "      <td>60.0</td>\n",
       "      <td>70.0</td>\n",
       "      <td>95.0</td>\n",
       "    </tr>\n",
       "    <tr>\n",
       "      <th>anaemia</th>\n",
       "      <td>299.0</td>\n",
       "      <td>0.431438</td>\n",
       "      <td>0.496107</td>\n",
       "      <td>0.0</td>\n",
       "      <td>0.0</td>\n",
       "      <td>0.0</td>\n",
       "      <td>1.0</td>\n",
       "      <td>1.0</td>\n",
       "    </tr>\n",
       "    <tr>\n",
       "      <th>creatinine_phosphokinase</th>\n",
       "      <td>299.0</td>\n",
       "      <td>581.839465</td>\n",
       "      <td>970.287881</td>\n",
       "      <td>23.0</td>\n",
       "      <td>116.5</td>\n",
       "      <td>250.0</td>\n",
       "      <td>582.0</td>\n",
       "      <td>7861.0</td>\n",
       "    </tr>\n",
       "    <tr>\n",
       "      <th>diabetes</th>\n",
       "      <td>299.0</td>\n",
       "      <td>0.418060</td>\n",
       "      <td>0.494067</td>\n",
       "      <td>0.0</td>\n",
       "      <td>0.0</td>\n",
       "      <td>0.0</td>\n",
       "      <td>1.0</td>\n",
       "      <td>1.0</td>\n",
       "    </tr>\n",
       "    <tr>\n",
       "      <th>ejection_fraction</th>\n",
       "      <td>299.0</td>\n",
       "      <td>38.083612</td>\n",
       "      <td>11.834841</td>\n",
       "      <td>14.0</td>\n",
       "      <td>30.0</td>\n",
       "      <td>38.0</td>\n",
       "      <td>45.0</td>\n",
       "      <td>80.0</td>\n",
       "    </tr>\n",
       "    <tr>\n",
       "      <th>high_blood_pressure</th>\n",
       "      <td>299.0</td>\n",
       "      <td>0.351171</td>\n",
       "      <td>0.478136</td>\n",
       "      <td>0.0</td>\n",
       "      <td>0.0</td>\n",
       "      <td>0.0</td>\n",
       "      <td>1.0</td>\n",
       "      <td>1.0</td>\n",
       "    </tr>\n",
       "    <tr>\n",
       "      <th>platelets</th>\n",
       "      <td>299.0</td>\n",
       "      <td>263358.029264</td>\n",
       "      <td>97804.236869</td>\n",
       "      <td>25100.0</td>\n",
       "      <td>212500.0</td>\n",
       "      <td>262000.0</td>\n",
       "      <td>303500.0</td>\n",
       "      <td>850000.0</td>\n",
       "    </tr>\n",
       "    <tr>\n",
       "      <th>serum_creatinine</th>\n",
       "      <td>299.0</td>\n",
       "      <td>1.393880</td>\n",
       "      <td>1.034510</td>\n",
       "      <td>0.5</td>\n",
       "      <td>0.9</td>\n",
       "      <td>1.1</td>\n",
       "      <td>1.4</td>\n",
       "      <td>9.4</td>\n",
       "    </tr>\n",
       "    <tr>\n",
       "      <th>serum_sodium</th>\n",
       "      <td>299.0</td>\n",
       "      <td>136.625418</td>\n",
       "      <td>4.412477</td>\n",
       "      <td>113.0</td>\n",
       "      <td>134.0</td>\n",
       "      <td>137.0</td>\n",
       "      <td>140.0</td>\n",
       "      <td>148.0</td>\n",
       "    </tr>\n",
       "    <tr>\n",
       "      <th>sex</th>\n",
       "      <td>299.0</td>\n",
       "      <td>0.648829</td>\n",
       "      <td>0.478136</td>\n",
       "      <td>0.0</td>\n",
       "      <td>0.0</td>\n",
       "      <td>1.0</td>\n",
       "      <td>1.0</td>\n",
       "      <td>1.0</td>\n",
       "    </tr>\n",
       "    <tr>\n",
       "      <th>smoking</th>\n",
       "      <td>299.0</td>\n",
       "      <td>0.321070</td>\n",
       "      <td>0.467670</td>\n",
       "      <td>0.0</td>\n",
       "      <td>0.0</td>\n",
       "      <td>0.0</td>\n",
       "      <td>1.0</td>\n",
       "      <td>1.0</td>\n",
       "    </tr>\n",
       "    <tr>\n",
       "      <th>time</th>\n",
       "      <td>299.0</td>\n",
       "      <td>130.260870</td>\n",
       "      <td>77.614208</td>\n",
       "      <td>4.0</td>\n",
       "      <td>73.0</td>\n",
       "      <td>115.0</td>\n",
       "      <td>203.0</td>\n",
       "      <td>285.0</td>\n",
       "    </tr>\n",
       "    <tr>\n",
       "      <th>DEATH_EVENT</th>\n",
       "      <td>299.0</td>\n",
       "      <td>0.321070</td>\n",
       "      <td>0.467670</td>\n",
       "      <td>0.0</td>\n",
       "      <td>0.0</td>\n",
       "      <td>0.0</td>\n",
       "      <td>1.0</td>\n",
       "      <td>1.0</td>\n",
       "    </tr>\n",
       "  </tbody>\n",
       "</table>\n",
       "</div>"
      ],
      "text/plain": [
       "                          count           mean           std      min  \\\n",
       "age                       299.0      60.833893     11.894809     40.0   \n",
       "anaemia                   299.0       0.431438      0.496107      0.0   \n",
       "creatinine_phosphokinase  299.0     581.839465    970.287881     23.0   \n",
       "diabetes                  299.0       0.418060      0.494067      0.0   \n",
       "ejection_fraction         299.0      38.083612     11.834841     14.0   \n",
       "high_blood_pressure       299.0       0.351171      0.478136      0.0   \n",
       "platelets                 299.0  263358.029264  97804.236869  25100.0   \n",
       "serum_creatinine          299.0       1.393880      1.034510      0.5   \n",
       "serum_sodium              299.0     136.625418      4.412477    113.0   \n",
       "sex                       299.0       0.648829      0.478136      0.0   \n",
       "smoking                   299.0       0.321070      0.467670      0.0   \n",
       "time                      299.0     130.260870     77.614208      4.0   \n",
       "DEATH_EVENT               299.0       0.321070      0.467670      0.0   \n",
       "\n",
       "                               25%       50%       75%       max  \n",
       "age                           51.0      60.0      70.0      95.0  \n",
       "anaemia                        0.0       0.0       1.0       1.0  \n",
       "creatinine_phosphokinase     116.5     250.0     582.0    7861.0  \n",
       "diabetes                       0.0       0.0       1.0       1.0  \n",
       "ejection_fraction             30.0      38.0      45.0      80.0  \n",
       "high_blood_pressure            0.0       0.0       1.0       1.0  \n",
       "platelets                 212500.0  262000.0  303500.0  850000.0  \n",
       "serum_creatinine               0.9       1.1       1.4       9.4  \n",
       "serum_sodium                 134.0     137.0     140.0     148.0  \n",
       "sex                            0.0       1.0       1.0       1.0  \n",
       "smoking                        0.0       0.0       1.0       1.0  \n",
       "time                          73.0     115.0     203.0     285.0  \n",
       "DEATH_EVENT                    0.0       0.0       1.0       1.0  "
      ]
     },
     "execution_count": 153,
     "metadata": {},
     "output_type": "execute_result"
    }
   ],
   "source": [
    "df.describe().T"
   ]
  },
  {
   "cell_type": "code",
   "execution_count": 154,
   "metadata": {},
   "outputs": [
    {
     "data": {
      "text/plain": [
       "<AxesSubplot:>"
      ]
     },
     "execution_count": 154,
     "metadata": {},
     "output_type": "execute_result"
    },
    {
     "data": {
      "image/png": "[encoded data removed]",
      "text/plain": [
       "<Figure size 720x360 with 1 Axes>"
      ]
     },
     "metadata": {
      "needs_background": "light"
     },
     "output_type": "display_data"
    }
   ],
   "source": [
    "# The mean value of 'platelets' and 'creatinine_phosphokinase' features are very high compared to other features\n",
    "# So lets plot a box plot by dropping those columns\n",
    "\n",
    "df.drop(['platelets', 'creatinine_phosphokinase'], axis = 1).boxplot(figsize=(10,5))"
   ]
  },
  {
   "cell_type": "code",
   "execution_count": 155,
   "metadata": {},
   "outputs": [],
   "source": [
    "# Still there are few features which have relatively high values than others (e.g. 'time')\n",
    "# So we have to do standard scaling\n",
    "# But first separate the independant and dependant variables\n",
    "\n",
    "\n",
    "X=df.drop([\"DEATH_EVENT\"],axis=1)\n",
    "y=df[\"DEATH_EVENT\"]"
   ]
  },
  {
   "cell_type": "code",
   "execution_count": 156,
   "metadata": {},
   "outputs": [
    {
     "data": {
      "text/html": [
       "<div>\n",
       "<style scoped>\n",
       "    .dataframe tbody tr th:only-of-type {\n",
       "        vertical-align: middle;\n",
       "    }\n",
       "\n",
       "    .dataframe tbody tr th {\n",
       "        vertical-align: top;\n",
       "    }\n",
       "\n",
       "    .dataframe thead th {\n",
       "        text-align: right;\n",
       "    }\n",
       "</style>\n",
       "<table border=\"1\" class=\"dataframe\">\n",
       "  <thead>\n",
       "    <tr style=\"text-align: right;\">\n",
       "      <th></th>\n",
       "      <th>count</th>\n",
       "      <th>mean</th>\n",
       "      <th>std</th>\n",
       "      <th>min</th>\n",
       "      <th>25%</th>\n",
       "      <th>50%</th>\n",
       "      <th>75%</th>\n",
       "      <th>max</th>\n",
       "    </tr>\n",
       "  </thead>\n",
       "  <tbody>\n",
       "    <tr>\n",
       "      <th>age</th>\n",
       "      <td>299.0</td>\n",
       "      <td>5.703353e-16</td>\n",
       "      <td>1.001676</td>\n",
       "      <td>-1.754448</td>\n",
       "      <td>-0.828124</td>\n",
       "      <td>-0.070223</td>\n",
       "      <td>0.771889</td>\n",
       "      <td>2.877170</td>\n",
       "    </tr>\n",
       "    <tr>\n",
       "      <th>anaemia</th>\n",
       "      <td>299.0</td>\n",
       "      <td>1.009969e-16</td>\n",
       "      <td>1.001676</td>\n",
       "      <td>-0.871105</td>\n",
       "      <td>-0.871105</td>\n",
       "      <td>-0.871105</td>\n",
       "      <td>1.147968</td>\n",
       "      <td>1.147968</td>\n",
       "    </tr>\n",
       "    <tr>\n",
       "      <th>creatinine_phosphokinase</th>\n",
       "      <td>299.0</td>\n",
       "      <td>0.000000e+00</td>\n",
       "      <td>1.001676</td>\n",
       "      <td>-0.576918</td>\n",
       "      <td>-0.480393</td>\n",
       "      <td>-0.342574</td>\n",
       "      <td>0.000166</td>\n",
       "      <td>7.514640</td>\n",
       "    </tr>\n",
       "    <tr>\n",
       "      <th>diabetes</th>\n",
       "      <td>299.0</td>\n",
       "      <td>9.060014e-17</td>\n",
       "      <td>1.001676</td>\n",
       "      <td>-0.847579</td>\n",
       "      <td>-0.847579</td>\n",
       "      <td>-0.847579</td>\n",
       "      <td>1.179830</td>\n",
       "      <td>1.179830</td>\n",
       "    </tr>\n",
       "    <tr>\n",
       "      <th>ejection_fraction</th>\n",
       "      <td>299.0</td>\n",
       "      <td>-3.267546e-17</td>\n",
       "      <td>1.001676</td>\n",
       "      <td>-2.038387</td>\n",
       "      <td>-0.684180</td>\n",
       "      <td>-0.007077</td>\n",
       "      <td>0.585389</td>\n",
       "      <td>3.547716</td>\n",
       "    </tr>\n",
       "    <tr>\n",
       "      <th>high_blood_pressure</th>\n",
       "      <td>299.0</td>\n",
       "      <td>0.000000e+00</td>\n",
       "      <td>1.001676</td>\n",
       "      <td>-0.735688</td>\n",
       "      <td>-0.735688</td>\n",
       "      <td>-0.735688</td>\n",
       "      <td>1.359272</td>\n",
       "      <td>1.359272</td>\n",
       "    </tr>\n",
       "    <tr>\n",
       "      <th>platelets</th>\n",
       "      <td>299.0</td>\n",
       "      <td>7.723291e-17</td>\n",
       "      <td>1.001676</td>\n",
       "      <td>-2.440155</td>\n",
       "      <td>-0.520870</td>\n",
       "      <td>-0.013908</td>\n",
       "      <td>0.411120</td>\n",
       "      <td>6.008180</td>\n",
       "    </tr>\n",
       "    <tr>\n",
       "      <th>serum_creatinine</th>\n",
       "      <td>299.0</td>\n",
       "      <td>1.425838e-16</td>\n",
       "      <td>1.001676</td>\n",
       "      <td>-0.865509</td>\n",
       "      <td>-0.478205</td>\n",
       "      <td>-0.284552</td>\n",
       "      <td>0.005926</td>\n",
       "      <td>7.752020</td>\n",
       "    </tr>\n",
       "    <tr>\n",
       "      <th>serum_sodium</th>\n",
       "      <td>299.0</td>\n",
       "      <td>-8.673849e-16</td>\n",
       "      <td>1.001676</td>\n",
       "      <td>-5.363206</td>\n",
       "      <td>-0.595996</td>\n",
       "      <td>0.085034</td>\n",
       "      <td>0.766064</td>\n",
       "      <td>2.582144</td>\n",
       "    </tr>\n",
       "    <tr>\n",
       "      <th>sex</th>\n",
       "      <td>299.0</td>\n",
       "      <td>-8.911489e-18</td>\n",
       "      <td>1.001676</td>\n",
       "      <td>-1.359272</td>\n",
       "      <td>-1.359272</td>\n",
       "      <td>0.735688</td>\n",
       "      <td>0.735688</td>\n",
       "      <td>0.735688</td>\n",
       "    </tr>\n",
       "    <tr>\n",
       "      <th>smoking</th>\n",
       "      <td>299.0</td>\n",
       "      <td>-1.188199e-17</td>\n",
       "      <td>1.001676</td>\n",
       "      <td>-0.687682</td>\n",
       "      <td>-0.687682</td>\n",
       "      <td>-0.687682</td>\n",
       "      <td>1.454161</td>\n",
       "      <td>1.454161</td>\n",
       "    </tr>\n",
       "    <tr>\n",
       "      <th>time</th>\n",
       "      <td>299.0</td>\n",
       "      <td>-1.901118e-16</td>\n",
       "      <td>1.001676</td>\n",
       "      <td>-1.629502</td>\n",
       "      <td>-0.739000</td>\n",
       "      <td>-0.196954</td>\n",
       "      <td>0.938759</td>\n",
       "      <td>1.997038</td>\n",
       "    </tr>\n",
       "  </tbody>\n",
       "</table>\n",
       "</div>"
      ],
      "text/plain": [
       "                          count          mean       std       min       25%  \\\n",
       "age                       299.0  5.703353e-16  1.001676 -1.754448 -0.828124   \n",
       "anaemia                   299.0  1.009969e-16  1.001676 -0.871105 -0.871105   \n",
       "creatinine_phosphokinase  299.0  0.000000e+00  1.001676 -0.576918 -0.480393   \n",
       "diabetes                  299.0  9.060014e-17  1.001676 -0.847579 -0.847579   \n",
       "ejection_fraction         299.0 -3.267546e-17  1.001676 -2.038387 -0.684180   \n",
       "high_blood_pressure       299.0  0.000000e+00  1.001676 -0.735688 -0.735688   \n",
       "platelets                 299.0  7.723291e-17  1.001676 -2.440155 -0.520870   \n",
       "serum_creatinine          299.0  1.425838e-16  1.001676 -0.865509 -0.478205   \n",
       "serum_sodium              299.0 -8.673849e-16  1.001676 -5.363206 -0.595996   \n",
       "sex                       299.0 -8.911489e-18  1.001676 -1.359272 -1.359272   \n",
       "smoking                   299.0 -1.188199e-17  1.001676 -0.687682 -0.687682   \n",
       "time                      299.0 -1.901118e-16  1.001676 -1.629502 -0.739000   \n",
       "\n",
       "                               50%       75%       max  \n",
       "age                      -0.070223  0.771889  2.877170  \n",
       "anaemia                  -0.871105  1.147968  1.147968  \n",
       "creatinine_phosphokinase -0.342574  0.000166  7.514640  \n",
       "diabetes                 -0.847579  1.179830  1.179830  \n",
       "ejection_fraction        -0.007077  0.585389  3.547716  \n",
       "high_blood_pressure      -0.735688  1.359272  1.359272  \n",
       "platelets                -0.013908  0.411120  6.008180  \n",
       "serum_creatinine         -0.284552  0.005926  7.752020  \n",
       "serum_sodium              0.085034  0.766064  2.582144  \n",
       "sex                       0.735688  0.735688  0.735688  \n",
       "smoking                  -0.687682  1.454161  1.454161  \n",
       "time                     -0.196954  0.938759  1.997038  "
      ]
     },
     "execution_count": 156,
     "metadata": {},
     "output_type": "execute_result"
    }
   ],
   "source": [
    "# Now scaling the independant variables\n",
    "\n",
    "col_names = list(X.columns)\n",
    "st_scaler = preprocessing.StandardScaler()\n",
    "X_df = st_scaler.fit_transform(X)\n",
    "X_st = pd.DataFrame(X_df, columns = col_names)\n",
    "X_st.describe().T"
   ]
  },
  {
   "cell_type": "code",
   "execution_count": 157,
   "metadata": {},
   "outputs": [
    {
     "data": {
      "text/plain": [
       "<AxesSubplot:>"
      ]
     },
     "execution_count": 157,
     "metadata": {},
     "output_type": "execute_result"
    },
    {
     "data": {
      "image/png": "[encoded data removed]",
      "text/plain": [
       "<Figure size 432x288 with 1 Axes>"
      ]
     },
     "metadata": {
      "needs_background": "light"
     },
     "output_type": "display_data"
    }
   ],
   "source": [
    "# Lets see how it looks after the scaling\n",
    "\n",
    "X_st.boxplot()"
   ]
  },
  {
   "cell_type": "code",
   "execution_count": 158,
   "metadata": {},
   "outputs": [
    {
     "data": {
      "text/plain": [
       "((224, 12), (224,), (75, 12))"
      ]
     },
     "execution_count": 158,
     "metadata": {},
     "output_type": "execute_result"
    }
   ],
   "source": [
    "# Now the dataset values are prepared to be fed into a neural network\n",
    "# Let's split the dataset into training and testing sets\n",
    "\n",
    "X_train, X_test, y_train, y_test = train_test_split(X_st, y, test_size = 0.25, random_state = 101)\n",
    "X_train.shape, y_train.shape, X_test.shape"
   ]
  },
  {
   "cell_type": "code",
   "execution_count": 186,
   "metadata": {},
   "outputs": [
    {
     "name": "stdout",
     "output_type": "stream",
     "text": [
      "Model: \"functional_75\"\n",
      "_________________________________________________________________\n",
      "Layer (type)                 Output Shape              Param #   \n",
      "=================================================================\n",
      "input_38 (InputLayer)        [(None, 12)]              0         \n",
      "_________________________________________________________________\n",
      "dense_111 (Dense)            (None, 100)               1300      \n",
      "_________________________________________________________________\n",
      "dense_112 (Dense)            (None, 50)                5050      \n",
      "_________________________________________________________________\n",
      "dense_113 (Dense)            (None, 1)                 51        \n",
      "=================================================================\n",
      "Total params: 6,401\n",
      "Trainable params: 6,401\n",
      "Non-trainable params: 0\n",
      "_________________________________________________________________\n"
     ]
    }
   ],
   "source": [
    "# Now creating a simple neural network\n",
    "\n",
    "input1 = Input(shape=(X_train.shape[1],))\n",
    "hidden1 = Dense(100, activation='relu')(input1)\n",
    "hidden2 = Dense(50, activation='relu')(hidden1)\n",
    "output = Dense(1, activation='sigmoid')(hidden2)\n",
    "model_func = Model(inputs=input1, outputs=output)\n",
    "\n",
    "model_func.summary()"
   ]
  },
  {
   "cell_type": "code",
   "execution_count": 187,
   "metadata": {
    "tags": []
   },
   "outputs": [
    {
     "name": "stdout",
     "output_type": "stream",
     "text": [
      "Epoch 1/50\n",
      "7/7 [==============================] - 0s 18ms/step - loss: 0.6725 - accuracy: 0.5625 - val_loss: 0.6037 - val_accuracy: 0.7467\n",
      "Epoch 2/50\n",
      "7/7 [==============================] - 0s 3ms/step - loss: 0.5912 - accuracy: 0.7277 - val_loss: 0.5390 - val_accuracy: 0.8000\n",
      "Epoch 3/50\n",
      "7/7 [==============================] - 0s 3ms/step - loss: 0.5342 - accuracy: 0.7545 - val_loss: 0.4904 - val_accuracy: 0.7733\n",
      "Epoch 4/50\n",
      "7/7 [==============================] - 0s 6ms/step - loss: 0.4888 - accuracy: 0.8125 - val_loss: 0.4586 - val_accuracy: 0.8133\n",
      "Epoch 5/50\n",
      "7/7 [==============================] - 0s 4ms/step - loss: 0.4532 - accuracy: 0.8348 - val_loss: 0.4377 - val_accuracy: 0.8133\n",
      "Epoch 6/50\n",
      "7/7 [==============================] - 0s 4ms/step - loss: 0.4230 - accuracy: 0.8482 - val_loss: 0.4194 - val_accuracy: 0.8400\n",
      "Epoch 7/50\n",
      "7/7 [==============================] - 0s 4ms/step - loss: 0.4002 - accuracy: 0.8616 - val_loss: 0.4102 - val_accuracy: 0.8400\n",
      "Epoch 8/50\n",
      "7/7 [==============================] - 0s 4ms/step - loss: 0.3834 - accuracy: 0.8616 - val_loss: 0.4009 - val_accuracy: 0.8533\n",
      "Epoch 9/50\n",
      "7/7 [==============================] - 0s 3ms/step - loss: 0.3683 - accuracy: 0.8527 - val_loss: 0.3962 - val_accuracy: 0.8533\n",
      "Epoch 10/50\n",
      "7/7 [==============================] - 0s 3ms/step - loss: 0.3555 - accuracy: 0.8616 - val_loss: 0.3901 - val_accuracy: 0.8533\n",
      "Epoch 11/50\n",
      "7/7 [==============================] - 0s 4ms/step - loss: 0.3456 - accuracy: 0.8616 - val_loss: 0.3869 - val_accuracy: 0.8533\n",
      "Epoch 12/50\n",
      "7/7 [==============================] - 0s 4ms/step - loss: 0.3360 - accuracy: 0.8705 - val_loss: 0.3893 - val_accuracy: 0.8400\n",
      "Epoch 13/50\n",
      "7/7 [==============================] - 0s 3ms/step - loss: 0.3268 - accuracy: 0.8616 - val_loss: 0.3895 - val_accuracy: 0.8400\n",
      "Epoch 14/50\n",
      "7/7 [==============================] - 0s 4ms/step - loss: 0.3199 - accuracy: 0.8705 - val_loss: 0.3928 - val_accuracy: 0.8400\n",
      "Epoch 15/50\n",
      "7/7 [==============================] - 0s 3ms/step - loss: 0.3114 - accuracy: 0.8750 - val_loss: 0.3935 - val_accuracy: 0.8400\n",
      "Epoch 16/50\n",
      "7/7 [==============================] - 0s 4ms/step - loss: 0.3036 - accuracy: 0.8750 - val_loss: 0.3915 - val_accuracy: 0.8400\n",
      "Epoch 17/50\n",
      "7/7 [==============================] - 0s 4ms/step - loss: 0.2981 - accuracy: 0.8750 - val_loss: 0.3876 - val_accuracy: 0.8400\n",
      "Epoch 18/50\n",
      "7/7 [==============================] - 0s 3ms/step - loss: 0.2899 - accuracy: 0.8839 - val_loss: 0.3907 - val_accuracy: 0.8400\n",
      "Epoch 19/50\n",
      "7/7 [==============================] - 0s 4ms/step - loss: 0.2851 - accuracy: 0.8839 - val_loss: 0.3964 - val_accuracy: 0.8533\n",
      "Epoch 20/50\n",
      "7/7 [==============================] - 0s 4ms/step - loss: 0.2787 - accuracy: 0.8929 - val_loss: 0.3905 - val_accuracy: 0.8400\n",
      "Epoch 21/50\n",
      "7/7 [==============================] - 0s 3ms/step - loss: 0.2711 - accuracy: 0.8839 - val_loss: 0.3918 - val_accuracy: 0.8400\n",
      "Epoch 22/50\n",
      "7/7 [==============================] - 0s 3ms/step - loss: 0.2659 - accuracy: 0.8884 - val_loss: 0.3953 - val_accuracy: 0.8533\n",
      "Epoch 23/50\n",
      "7/7 [==============================] - 0s 4ms/step - loss: 0.2591 - accuracy: 0.9018 - val_loss: 0.3959 - val_accuracy: 0.8533\n",
      "Epoch 24/50\n",
      "7/7 [==============================] - 0s 3ms/step - loss: 0.2541 - accuracy: 0.9018 - val_loss: 0.3963 - val_accuracy: 0.8533\n",
      "Epoch 25/50\n",
      "7/7 [==============================] - 0s 3ms/step - loss: 0.2482 - accuracy: 0.9062 - val_loss: 0.3941 - val_accuracy: 0.8533\n",
      "Epoch 26/50\n",
      "7/7 [==============================] - 0s 3ms/step - loss: 0.2422 - accuracy: 0.9152 - val_loss: 0.3981 - val_accuracy: 0.8533\n",
      "Epoch 27/50\n",
      "7/7 [==============================] - 0s 4ms/step - loss: 0.2363 - accuracy: 0.9152 - val_loss: 0.4039 - val_accuracy: 0.8533\n",
      "Epoch 28/50\n",
      "7/7 [==============================] - 0s 3ms/step - loss: 0.2310 - accuracy: 0.9152 - val_loss: 0.3992 - val_accuracy: 0.8533\n",
      "Epoch 29/50\n",
      "7/7 [==============================] - 0s 3ms/step - loss: 0.2260 - accuracy: 0.9196 - val_loss: 0.4039 - val_accuracy: 0.8533\n",
      "Epoch 30/50\n",
      "7/7 [==============================] - 0s 4ms/step - loss: 0.2195 - accuracy: 0.9196 - val_loss: 0.4060 - val_accuracy: 0.8533\n",
      "Epoch 31/50\n",
      "7/7 [==============================] - 0s 4ms/step - loss: 0.2142 - accuracy: 0.9196 - val_loss: 0.4074 - val_accuracy: 0.8533\n",
      "Epoch 32/50\n",
      "7/7 [==============================] - 0s 3ms/step - loss: 0.2086 - accuracy: 0.9196 - val_loss: 0.4064 - val_accuracy: 0.8400\n",
      "Epoch 33/50\n",
      "7/7 [==============================] - 0s 3ms/step - loss: 0.2038 - accuracy: 0.9286 - val_loss: 0.4077 - val_accuracy: 0.8400\n",
      "Epoch 34/50\n",
      "7/7 [==============================] - 0s 4ms/step - loss: 0.1981 - accuracy: 0.9286 - val_loss: 0.4120 - val_accuracy: 0.8400\n",
      "Epoch 35/50\n",
      "7/7 [==============================] - 0s 3ms/step - loss: 0.1935 - accuracy: 0.9330 - val_loss: 0.4190 - val_accuracy: 0.8400\n",
      "Epoch 36/50\n",
      "7/7 [==============================] - 0s 4ms/step - loss: 0.1899 - accuracy: 0.9375 - val_loss: 0.4135 - val_accuracy: 0.8400\n",
      "Epoch 37/50\n",
      "7/7 [==============================] - 0s 4ms/step - loss: 0.1837 - accuracy: 0.9330 - val_loss: 0.4257 - val_accuracy: 0.8400\n",
      "Epoch 38/50\n",
      "7/7 [==============================] - 0s 4ms/step - loss: 0.1777 - accuracy: 0.9420 - val_loss: 0.4219 - val_accuracy: 0.8400\n",
      "Epoch 39/50\n",
      "7/7 [==============================] - 0s 4ms/step - loss: 0.1717 - accuracy: 0.9509 - val_loss: 0.4272 - val_accuracy: 0.8400\n",
      "Epoch 40/50\n",
      "7/7 [==============================] - 0s 4ms/step - loss: 0.1670 - accuracy: 0.9509 - val_loss: 0.4321 - val_accuracy: 0.8267\n",
      "Epoch 41/50\n",
      "7/7 [==============================] - 0s 4ms/step - loss: 0.1625 - accuracy: 0.9509 - val_loss: 0.4404 - val_accuracy: 0.8400\n",
      "Epoch 42/50\n",
      "7/7 [==============================] - 0s 4ms/step - loss: 0.1573 - accuracy: 0.9554 - val_loss: 0.4427 - val_accuracy: 0.8267\n",
      "Epoch 43/50\n",
      "7/7 [==============================] - 0s 4ms/step - loss: 0.1524 - accuracy: 0.9554 - val_loss: 0.4493 - val_accuracy: 0.8267\n",
      "Epoch 44/50\n",
      "7/7 [==============================] - 0s 3ms/step - loss: 0.1496 - accuracy: 0.9554 - val_loss: 0.4466 - val_accuracy: 0.8267\n",
      "Epoch 45/50\n",
      "7/7 [==============================] - 0s 4ms/step - loss: 0.1433 - accuracy: 0.9598 - val_loss: 0.4620 - val_accuracy: 0.8133\n",
      "Epoch 46/50\n",
      "7/7 [==============================] - 0s 4ms/step - loss: 0.1389 - accuracy: 0.9554 - val_loss: 0.4690 - val_accuracy: 0.8000\n",
      "Epoch 47/50\n",
      "7/7 [==============================] - 0s 4ms/step - loss: 0.1347 - accuracy: 0.9643 - val_loss: 0.4639 - val_accuracy: 0.8133\n",
      "Epoch 48/50\n",
      "7/7 [==============================] - 0s 3ms/step - loss: 0.1303 - accuracy: 0.9688 - val_loss: 0.4683 - val_accuracy: 0.8133\n",
      "Epoch 49/50\n",
      "7/7 [==============================] - 0s 3ms/step - loss: 0.1253 - accuracy: 0.9688 - val_loss: 0.4736 - val_accuracy: 0.8133\n",
      "Epoch 50/50\n",
      "7/7 [==============================] - 0s 4ms/step - loss: 0.1205 - accuracy: 0.9777 - val_loss: 0.4870 - val_accuracy: 0.8133\n"
     ]
    }
   ],
   "source": [
    "# Compiling and training the network\n",
    "\n",
    "model_func.compile(loss='binary_crossentropy', \n",
    "                   optimizer='adam', metrics=['accuracy']\n",
    "                   )\n",
    "\n",
    "history = model_func.fit(X_train, y_train, epochs=50, validation_data=(X_test,y_test))"
   ]
  },
  {
   "cell_type": "code",
   "execution_count": 188,
   "metadata": {},
   "outputs": [
    {
     "name": "stdout",
     "output_type": "stream",
     "text": [
      "\n",
      "train_accuracy: 97.77%\n",
      "\n",
      "val_accuracy: 81.33%\n"
     ]
    }
   ],
   "source": [
    "# Let's check the last training and validation accuracy\n",
    "\n",
    "train_accuracy = history.history['accuracy'][-1]\n",
    "val_accuracy = history.history['val_accuracy'][-1]\n",
    "print(\"\\n%s: %.2f%%\" % ('train_accuracy', train_accuracy*100))\n",
    "print(\"\\n%s: %.2f%%\" % ('val_accuracy', val_accuracy*100))"
   ]
  },
  {
   "cell_type": "code",
   "execution_count": 189,
   "metadata": {
    "tags": []
   },
   "outputs": [
    {
     "data": {
      "text/plain": [
       "<matplotlib.legend.Legend at 0x1de3bb5d820>"
      ]
     },
     "execution_count": 189,
     "metadata": {},
     "output_type": "execute_result"
    },
    {
     "data": {
      "image/png": "[encoded data removed]",
      "text/plain": [
       "<Figure size 432x288 with 1 Axes>"
      ]
     },
     "metadata": {
      "needs_background": "light"
     },
     "output_type": "display_data"
    }
   ],
   "source": [
    "# Now plotting the training and validation accuracy during training\n",
    "\n",
    "plt.plot(history.history['accuracy'])\n",
    "plt.plot(history.history['val_accuracy'])\n",
    "plt.ylabel('Accuracy')\n",
    "plt.xlabel('No. of Epochs')\n",
    "plt.legend(['train', 'test'], loc='upper left')"
   ]
  },
  {
   "cell_type": "code",
   "execution_count": 190,
   "metadata": {
    "tags": []
   },
   "outputs": [
    {
     "data": {
      "text/plain": [
       "<matplotlib.legend.Legend at 0x1de3bb5de80>"
      ]
     },
     "execution_count": 190,
     "metadata": {},
     "output_type": "execute_result"
    },
    {
     "data": {
      "image/png": "[encoded data removed]",
      "text/plain": [
       "<Figure size 432x288 with 1 Axes>"
      ]
     },
     "metadata": {
      "needs_background": "light"
     },
     "output_type": "display_data"
    }
   ],
   "source": [
    "# And then plotting the training and validation loss during training\n",
    "\n",
    "plt.plot(history.history['loss'])\n",
    "plt.plot(history.history['val_loss'])\n",
    "plt.ylabel('Loss')\n",
    "plt.xlabel('No. of Epochs')\n",
    "plt.legend(['train', 'test'], loc='upper left')"
   ]
  },
  {
   "cell_type": "markdown",
   "metadata": {},
   "source": [
    "From the above figures we can see that, after around 10 epochs the validation accuracy does not change while the training accuracy continued to rise. And the validation loss also goes up after around 10 epochs whereas training loss continued to decrease. \n",
    "\n",
    "So it is clear that our model is overfitted which we wanted for our experiments. Now let's apply different regularization techniques one by one which are described above."
   ]
  },
  {
   "cell_type": "markdown",
   "metadata": {},
   "source": [
    "## DROPOUT"
   ]
  },
  {
   "cell_type": "code",
   "execution_count": 182,
   "metadata": {
    "tags": []
   },
   "outputs": [
    {
     "name": "stdout",
     "output_type": "stream",
     "text": [
      "Model: \"functional_73\"\n",
      "_________________________________________________________________\n",
      "Layer (type)                 Output Shape              Param #   \n",
      "=================================================================\n",
      "input_37 (InputLayer)        [(None, 12)]              0         \n",
      "_________________________________________________________________\n",
      "dense_108 (Dense)            (None, 100)               1300      \n",
      "_________________________________________________________________\n",
      "dropout_51 (Dropout)         (None, 100)               0         \n",
      "_________________________________________________________________\n",
      "dense_109 (Dense)            (None, 50)                5050      \n",
      "_________________________________________________________________\n",
      "dropout_52 (Dropout)         (None, 50)                0         \n",
      "_________________________________________________________________\n",
      "dense_110 (Dense)            (None, 1)                 51        \n",
      "=================================================================\n",
      "Total params: 6,401\n",
      "Trainable params: 6,401\n",
      "Non-trainable params: 0\n",
      "_________________________________________________________________\n"
     ]
    }
   ],
   "source": [
    "# Adding dropout layers in the previous network\n",
    "\n",
    "input1 = Input(shape=(X_train.shape[1],))\n",
    "hidden1 = Dense(100, activation='relu')(input1)\n",
    "hidden11 = Dropout(0.3)(hidden1)\n",
    "hidden2 = Dense(50, activation='relu')(hidden11)\n",
    "hidden22 = Dropout(0.2)(hidden2)\n",
    "output = Dense(1, activation='sigmoid')(hidden22)\n",
    "model_func_drp = Model(inputs=input1, outputs=output)\n",
    "\n",
    "model_func_drp.summary()"
   ]
  },
  {
   "cell_type": "code",
   "execution_count": 183,
   "metadata": {
    "collapsed": true,
    "jupyter": {
     "outputs_hidden": true
    },
    "tags": []
   },
   "outputs": [
    {
     "name": "stdout",
     "output_type": "stream",
     "text": [
      "Epoch 1/50\n",
      "1/7 [===>..........................] - ETA: 0s - loss: 0.7125 - accuracy: 0.4375WARNING:tensorflow:Callbacks method `on_train_batch_end` is slow compared to the batch time (batch time: 0.0000s vs `on_train_batch_end` time: 0.0010s). Check your callbacks.\n",
      "7/7 [==============================] - 0s 26ms/step - loss: 0.7000 - accuracy: 0.4955 - val_loss: 0.6465 - val_accuracy: 0.7200\n",
      "Epoch 2/50\n",
      "7/7 [==============================] - 0s 3ms/step - loss: 0.6589 - accuracy: 0.6339 - val_loss: 0.5870 - val_accuracy: 0.8000\n",
      "Epoch 3/50\n",
      "7/7 [==============================] - 0s 4ms/step - loss: 0.5952 - accuracy: 0.7188 - val_loss: 0.5427 - val_accuracy: 0.7600\n",
      "Epoch 4/50\n",
      "7/7 [==============================] - 0s 5ms/step - loss: 0.5736 - accuracy: 0.7054 - val_loss: 0.5084 - val_accuracy: 0.7600\n",
      "Epoch 5/50\n",
      "7/7 [==============================] - 0s 4ms/step - loss: 0.5380 - accuracy: 0.7321 - val_loss: 0.4794 - val_accuracy: 0.7733\n",
      "Epoch 6/50\n",
      "7/7 [==============================] - 0s 5ms/step - loss: 0.5056 - accuracy: 0.7321 - val_loss: 0.4540 - val_accuracy: 0.7867\n",
      "Epoch 7/50\n",
      "7/7 [==============================] - 0s 5ms/step - loss: 0.5001 - accuracy: 0.7589 - val_loss: 0.4348 - val_accuracy: 0.8400\n",
      "Epoch 8/50\n",
      "7/7 [==============================] - 0s 4ms/step - loss: 0.4611 - accuracy: 0.7812 - val_loss: 0.4208 - val_accuracy: 0.8400\n",
      "Epoch 9/50\n",
      "7/7 [==============================] - 0s 5ms/step - loss: 0.4361 - accuracy: 0.7946 - val_loss: 0.4086 - val_accuracy: 0.8400\n",
      "Epoch 10/50\n",
      "7/7 [==============================] - 0s 4ms/step - loss: 0.4277 - accuracy: 0.7902 - val_loss: 0.3953 - val_accuracy: 0.8267\n",
      "Epoch 11/50\n",
      "7/7 [==============================] - 0s 4ms/step - loss: 0.3976 - accuracy: 0.8214 - val_loss: 0.3855 - val_accuracy: 0.8400\n",
      "Epoch 12/50\n",
      "7/7 [==============================] - 0s 4ms/step - loss: 0.4051 - accuracy: 0.7946 - val_loss: 0.3795 - val_accuracy: 0.8400\n",
      "Epoch 13/50\n",
      "7/7 [==============================] - 0s 5ms/step - loss: 0.3838 - accuracy: 0.8348 - val_loss: 0.3758 - val_accuracy: 0.8533\n",
      "Epoch 14/50\n",
      "7/7 [==============================] - 0s 4ms/step - loss: 0.3900 - accuracy: 0.8259 - val_loss: 0.3740 - val_accuracy: 0.8400\n",
      "Epoch 15/50\n",
      "7/7 [==============================] - 0s 4ms/step - loss: 0.3682 - accuracy: 0.8036 - val_loss: 0.3715 - val_accuracy: 0.8400\n",
      "Epoch 16/50\n",
      "7/7 [==============================] - 0s 4ms/step - loss: 0.3753 - accuracy: 0.8393 - val_loss: 0.3688 - val_accuracy: 0.8400\n",
      "Epoch 17/50\n",
      "7/7 [==============================] - 0s 4ms/step - loss: 0.3760 - accuracy: 0.8125 - val_loss: 0.3676 - val_accuracy: 0.8400\n",
      "Epoch 18/50\n",
      "7/7 [==============================] - 0s 4ms/step - loss: 0.3738 - accuracy: 0.8438 - val_loss: 0.3657 - val_accuracy: 0.8400\n",
      "Epoch 19/50\n",
      "7/7 [==============================] - 0s 4ms/step - loss: 0.3603 - accuracy: 0.8571 - val_loss: 0.3655 - val_accuracy: 0.8400\n",
      "Epoch 20/50\n",
      "7/7 [==============================] - 0s 4ms/step - loss: 0.3595 - accuracy: 0.8214 - val_loss: 0.3614 - val_accuracy: 0.8400\n",
      "Epoch 21/50\n",
      "7/7 [==============================] - 0s 5ms/step - loss: 0.3448 - accuracy: 0.8571 - val_loss: 0.3627 - val_accuracy: 0.8400\n",
      "Epoch 22/50\n",
      "7/7 [==============================] - 0s 4ms/step - loss: 0.3658 - accuracy: 0.8304 - val_loss: 0.3588 - val_accuracy: 0.8400\n",
      "Epoch 23/50\n",
      "7/7 [==============================] - 0s 4ms/step - loss: 0.3431 - accuracy: 0.8571 - val_loss: 0.3562 - val_accuracy: 0.8400\n",
      "Epoch 24/50\n",
      "7/7 [==============================] - 0s 4ms/step - loss: 0.3376 - accuracy: 0.8438 - val_loss: 0.3541 - val_accuracy: 0.8400\n",
      "Epoch 25/50\n",
      "7/7 [==============================] - 0s 5ms/step - loss: 0.3359 - accuracy: 0.8527 - val_loss: 0.3529 - val_accuracy: 0.8400\n",
      "Epoch 26/50\n",
      "7/7 [==============================] - 0s 4ms/step - loss: 0.3206 - accuracy: 0.8795 - val_loss: 0.3539 - val_accuracy: 0.8400\n",
      "Epoch 27/50\n",
      "7/7 [==============================] - 0s 4ms/step - loss: 0.3086 - accuracy: 0.8571 - val_loss: 0.3530 - val_accuracy: 0.8400\n",
      "Epoch 28/50\n",
      "7/7 [==============================] - 0s 4ms/step - loss: 0.3405 - accuracy: 0.8348 - val_loss: 0.3442 - val_accuracy: 0.8533\n",
      "Epoch 29/50\n",
      "7/7 [==============================] - 0s 4ms/step - loss: 0.3307 - accuracy: 0.8438 - val_loss: 0.3457 - val_accuracy: 0.8533\n",
      "Epoch 30/50\n",
      "7/7 [==============================] - 0s 4ms/step - loss: 0.3354 - accuracy: 0.8527 - val_loss: 0.3492 - val_accuracy: 0.8533\n",
      "Epoch 31/50\n",
      "7/7 [==============================] - 0s 6ms/step - loss: 0.3227 - accuracy: 0.8571 - val_loss: 0.3476 - val_accuracy: 0.8533\n",
      "Epoch 32/50\n",
      "7/7 [==============================] - 0s 4ms/step - loss: 0.3110 - accuracy: 0.8661 - val_loss: 0.3447 - val_accuracy: 0.8533\n",
      "Epoch 33/50\n",
      "7/7 [==============================] - 0s 4ms/step - loss: 0.2976 - accuracy: 0.8795 - val_loss: 0.3452 - val_accuracy: 0.8533\n",
      "Epoch 34/50\n",
      "7/7 [==============================] - 0s 5ms/step - loss: 0.3058 - accuracy: 0.8661 - val_loss: 0.3461 - val_accuracy: 0.8533\n",
      "Epoch 35/50\n",
      "7/7 [==============================] - 0s 4ms/step - loss: 0.2999 - accuracy: 0.8705 - val_loss: 0.3479 - val_accuracy: 0.8533\n",
      "Epoch 36/50\n",
      "7/7 [==============================] - 0s 4ms/step - loss: 0.3193 - accuracy: 0.8482 - val_loss: 0.3505 - val_accuracy: 0.8533\n",
      "Epoch 37/50\n",
      "7/7 [==============================] - 0s 4ms/step - loss: 0.2970 - accuracy: 0.8527 - val_loss: 0.3487 - val_accuracy: 0.8533\n",
      "Epoch 38/50\n",
      "7/7 [==============================] - 0s 4ms/step - loss: 0.2926 - accuracy: 0.8973 - val_loss: 0.3475 - val_accuracy: 0.8533\n",
      "Epoch 39/50\n",
      "7/7 [==============================] - 0s 4ms/step - loss: 0.2865 - accuracy: 0.8795 - val_loss: 0.3483 - val_accuracy: 0.8533\n",
      "Epoch 40/50\n",
      "7/7 [==============================] - 0s 4ms/step - loss: 0.2911 - accuracy: 0.8616 - val_loss: 0.3529 - val_accuracy: 0.8533\n",
      "Epoch 41/50\n",
      "7/7 [==============================] - 0s 4ms/step - loss: 0.2868 - accuracy: 0.8929 - val_loss: 0.3539 - val_accuracy: 0.8533\n",
      "Epoch 42/50\n",
      "7/7 [==============================] - 0s 4ms/step - loss: 0.2722 - accuracy: 0.8705 - val_loss: 0.3581 - val_accuracy: 0.8533\n",
      "Epoch 43/50\n",
      "7/7 [==============================] - 0s 4ms/step - loss: 0.2810 - accuracy: 0.8929 - val_loss: 0.3608 - val_accuracy: 0.8533\n",
      "Epoch 44/50\n",
      "7/7 [==============================] - 0s 4ms/step - loss: 0.2982 - accuracy: 0.8616 - val_loss: 0.3594 - val_accuracy: 0.8533\n",
      "Epoch 45/50\n",
      "7/7 [==============================] - 0s 4ms/step - loss: 0.2730 - accuracy: 0.8616 - val_loss: 0.3612 - val_accuracy: 0.8533\n",
      "Epoch 46/50\n",
      "7/7 [==============================] - 0s 4ms/step - loss: 0.2776 - accuracy: 0.8884 - val_loss: 0.3647 - val_accuracy: 0.8533\n",
      "Epoch 47/50\n",
      "7/7 [==============================] - 0s 4ms/step - loss: 0.2586 - accuracy: 0.8884 - val_loss: 0.3700 - val_accuracy: 0.8533\n",
      "Epoch 48/50\n",
      "7/7 [==============================] - 0s 3ms/step - loss: 0.2843 - accuracy: 0.8616 - val_loss: 0.3707 - val_accuracy: 0.8533\n",
      "Epoch 49/50\n",
      "7/7 [==============================] - 0s 4ms/step - loss: 0.2703 - accuracy: 0.8884 - val_loss: 0.3709 - val_accuracy: 0.8400\n",
      "Epoch 50/50\n",
      "7/7 [==============================] - 0s 4ms/step - loss: 0.2571 - accuracy: 0.9018 - val_loss: 0.3724 - val_accuracy: 0.8400\n"
     ]
    }
   ],
   "source": [
    "model_func_drp.compile(loss='binary_crossentropy', \n",
    "                   optimizer='adam', metrics=['accuracy']\n",
    "                   )\n",
    "\n",
    "history_drp = model_func_drp.fit(X_train, y_train, epochs=50, validation_data=(X_test,y_test))"
   ]
  },
  {
   "cell_type": "code",
   "execution_count": 184,
   "metadata": {},
   "outputs": [
    {
     "name": "stdout",
     "output_type": "stream",
     "text": [
      "\n",
      "train_accuracy: 90.18%\n",
      "\n",
      "val_accuracy: 84.00%\n"
     ]
    }
   ],
   "source": [
    "# Let's check the last training and validation accuracy after adding the dropout layer\n",
    "\n",
    "train_accuracy_drp = history_drp.history['accuracy'][-1]\n",
    "val_accuracy_drp = history_drp.history['val_accuracy'][-1]\n",
    "print(\"\\n%s: %.2f%%\" % ('train_accuracy', train_accuracy_drp*100))\n",
    "print(\"\\n%s: %.2f%%\" % ('val_accuracy', val_accuracy_drp*100))"
   ]
  },
  {
   "cell_type": "code",
   "execution_count": 185,
   "metadata": {},
   "outputs": [
    {
     "data": {
      "text/plain": [
       "<matplotlib.legend.Legend at 0x1de37701d90>"
      ]
     },
     "execution_count": 185,
     "metadata": {},
     "output_type": "execute_result"
    },
    {
     "data": {
      "image/png": "[encoded data removed]",
      "text/plain": [
       "<Figure size 432x288 with 1 Axes>"
      ]
     },
     "metadata": {
      "needs_background": "light"
     },
     "output_type": "display_data"
    }
   ],
   "source": [
    "plt.plot(history_drp.history['accuracy'])\n",
    "plt.plot(history_drp.history['val_accuracy'])\n",
    "plt.ylabel('Accuracy')\n",
    "plt.xlabel('No. of Epochs')\n",
    "plt.legend(['train', 'test'], loc='upper left')"
   ]
  },
  {
   "cell_type": "markdown",
   "metadata": {},
   "source": [
    "In this case, Dropout layer did not improved the validation accuracy drastically. But one thing is noticable that the training accuracy fall down. It means it is less overfitted than earlier. "
   ]
  },
  {
   "cell_type": "markdown",
   "metadata": {},
   "source": [
    "## Batch normalization"
   ]
  },
  {
   "cell_type": "code",
   "execution_count": 191,
   "metadata": {
    "tags": []
   },
   "outputs": [
    {
     "name": "stdout",
     "output_type": "stream",
     "text": [
      "Model: \"functional_77\"\n",
      "_________________________________________________________________\n",
      "Layer (type)                 Output Shape              Param #   \n",
      "=================================================================\n",
      "input_39 (InputLayer)        [(None, 12)]              0         \n",
      "_________________________________________________________________\n",
      "dense_114 (Dense)            (None, 100)               1300      \n",
      "_________________________________________________________________\n",
      "dropout_53 (Dropout)         (None, 100)               0         \n",
      "_________________________________________________________________\n",
      "dense_115 (Dense)            (None, 50)                5050      \n",
      "_________________________________________________________________\n",
      "dropout_54 (Dropout)         (None, 50)                0         \n",
      "_________________________________________________________________\n",
      "dense_116 (Dense)            (None, 1)                 51        \n",
      "=================================================================\n",
      "Total params: 6,401\n",
      "Trainable params: 6,401\n",
      "Non-trainable params: 0\n",
      "_________________________________________________________________\n"
     ]
    }
   ],
   "source": [
    "# Now we will define the number of samples in each batches during training\n",
    "\n",
    "input1 = Input(shape=(X_train.shape[1],))\n",
    "hidden1 = Dense(100, activation='relu')(input1)\n",
    "hidden11 = Dropout(0.3)(hidden1)\n",
    "hidden2 = Dense(50, activation='relu')(hidden11)\n",
    "hidden22 = Dropout(0.2)(hidden2)\n",
    "output = Dense(1, activation='sigmoid')(hidden22)\n",
    "model_func_drp_batch = Model(inputs=input1, outputs=output)\n",
    "\n",
    "model_func_drp_batch.summary()"
   ]
  },
  {
   "cell_type": "code",
   "execution_count": 192,
   "metadata": {
    "tags": []
   },
   "outputs": [
    {
     "name": "stdout",
     "output_type": "stream",
     "text": [
      "Epoch 1/50\n",
      "15/15 [==============================] - 0s 12ms/step - loss: 0.6496 - accuracy: 0.6562 - val_loss: 0.5804 - val_accuracy: 0.7467\n",
      "Epoch 2/50\n",
      "15/15 [==============================] - 0s 2ms/step - loss: 0.5693 - accuracy: 0.7188 - val_loss: 0.5093 - val_accuracy: 0.7600\n",
      "Epoch 3/50\n",
      "15/15 [==============================] - 0s 2ms/step - loss: 0.5438 - accuracy: 0.7411 - val_loss: 0.4673 - val_accuracy: 0.8533\n",
      "Epoch 4/50\n",
      "15/15 [==============================] - 0s 2ms/step - loss: 0.4771 - accuracy: 0.7946 - val_loss: 0.4382 - val_accuracy: 0.8400\n",
      "Epoch 5/50\n",
      "15/15 [==============================] - 0s 2ms/step - loss: 0.4546 - accuracy: 0.8080 - val_loss: 0.4138 - val_accuracy: 0.8133\n",
      "Epoch 6/50\n",
      "15/15 [==============================] - 0s 3ms/step - loss: 0.4338 - accuracy: 0.8080 - val_loss: 0.3868 - val_accuracy: 0.8133\n",
      "Epoch 7/50\n",
      "15/15 [==============================] - 0s 2ms/step - loss: 0.4361 - accuracy: 0.7991 - val_loss: 0.3832 - val_accuracy: 0.8400\n",
      "Epoch 8/50\n",
      "15/15 [==============================] - 0s 2ms/step - loss: 0.4010 - accuracy: 0.8214 - val_loss: 0.3743 - val_accuracy: 0.8533\n",
      "Epoch 9/50\n",
      "15/15 [==============================] - 0s 3ms/step - loss: 0.3909 - accuracy: 0.8527 - val_loss: 0.3704 - val_accuracy: 0.8400\n",
      "Epoch 10/50\n",
      "15/15 [==============================] - 0s 2ms/step - loss: 0.3464 - accuracy: 0.8750 - val_loss: 0.3748 - val_accuracy: 0.8533\n",
      "Epoch 11/50\n",
      "15/15 [==============================] - 0s 2ms/step - loss: 0.4044 - accuracy: 0.8393 - val_loss: 0.3698 - val_accuracy: 0.8400\n",
      "Epoch 12/50\n",
      "15/15 [==============================] - 0s 2ms/step - loss: 0.3749 - accuracy: 0.8438 - val_loss: 0.3686 - val_accuracy: 0.8533\n",
      "Epoch 13/50\n",
      "15/15 [==============================] - 0s 3ms/step - loss: 0.3312 - accuracy: 0.8482 - val_loss: 0.3671 - val_accuracy: 0.8400\n",
      "Epoch 14/50\n",
      "15/15 [==============================] - 0s 3ms/step - loss: 0.3476 - accuracy: 0.8661 - val_loss: 0.3632 - val_accuracy: 0.8267\n",
      "Epoch 15/50\n",
      "15/15 [==============================] - 0s 3ms/step - loss: 0.3196 - accuracy: 0.8884 - val_loss: 0.3669 - val_accuracy: 0.8267\n",
      "Epoch 16/50\n",
      "15/15 [==============================] - 0s 3ms/step - loss: 0.3345 - accuracy: 0.8616 - val_loss: 0.3738 - val_accuracy: 0.8267\n",
      "Epoch 17/50\n",
      "15/15 [==============================] - 0s 3ms/step - loss: 0.3417 - accuracy: 0.8393 - val_loss: 0.3689 - val_accuracy: 0.8267\n",
      "Epoch 18/50\n",
      "15/15 [==============================] - 0s 3ms/step - loss: 0.3462 - accuracy: 0.8571 - val_loss: 0.3731 - val_accuracy: 0.8267\n",
      "Epoch 19/50\n",
      "15/15 [==============================] - 0s 3ms/step - loss: 0.3271 - accuracy: 0.8571 - val_loss: 0.3709 - val_accuracy: 0.8267\n",
      "Epoch 20/50\n",
      "15/15 [==============================] - 0s 3ms/step - loss: 0.3042 - accuracy: 0.8750 - val_loss: 0.3710 - val_accuracy: 0.8400\n",
      "Epoch 21/50\n",
      "15/15 [==============================] - 0s 3ms/step - loss: 0.3096 - accuracy: 0.8527 - val_loss: 0.3687 - val_accuracy: 0.8400\n",
      "Epoch 22/50\n",
      "15/15 [==============================] - 0s 3ms/step - loss: 0.3395 - accuracy: 0.8527 - val_loss: 0.3732 - val_accuracy: 0.8400\n",
      "Epoch 23/50\n",
      "15/15 [==============================] - 0s 3ms/step - loss: 0.2881 - accuracy: 0.8839 - val_loss: 0.3779 - val_accuracy: 0.8400\n",
      "Epoch 24/50\n",
      "15/15 [==============================] - 0s 3ms/step - loss: 0.2810 - accuracy: 0.8884 - val_loss: 0.3774 - val_accuracy: 0.8400\n",
      "Epoch 25/50\n",
      "15/15 [==============================] - 0s 3ms/step - loss: 0.2748 - accuracy: 0.8929 - val_loss: 0.3815 - val_accuracy: 0.8400\n",
      "Epoch 26/50\n",
      "15/15 [==============================] - 0s 3ms/step - loss: 0.3207 - accuracy: 0.8438 - val_loss: 0.3826 - val_accuracy: 0.8400\n",
      "Epoch 27/50\n",
      "15/15 [==============================] - 0s 3ms/step - loss: 0.2987 - accuracy: 0.8616 - val_loss: 0.3798 - val_accuracy: 0.8400\n",
      "Epoch 28/50\n",
      "15/15 [==============================] - 0s 3ms/step - loss: 0.2711 - accuracy: 0.8750 - val_loss: 0.3989 - val_accuracy: 0.8400\n",
      "Epoch 29/50\n",
      "15/15 [==============================] - 0s 3ms/step - loss: 0.2452 - accuracy: 0.9107 - val_loss: 0.3905 - val_accuracy: 0.8400\n",
      "Epoch 30/50\n",
      "15/15 [==============================] - 0s 3ms/step - loss: 0.2648 - accuracy: 0.8973 - val_loss: 0.3895 - val_accuracy: 0.8400\n",
      "Epoch 31/50\n",
      "15/15 [==============================] - 0s 3ms/step - loss: 0.2858 - accuracy: 0.8616 - val_loss: 0.3884 - val_accuracy: 0.8400\n",
      "Epoch 32/50\n",
      "15/15 [==============================] - 0s 3ms/step - loss: 0.2756 - accuracy: 0.8839 - val_loss: 0.3879 - val_accuracy: 0.8400\n",
      "Epoch 33/50\n",
      "15/15 [==============================] - 0s 3ms/step - loss: 0.2780 - accuracy: 0.8795 - val_loss: 0.3834 - val_accuracy: 0.8400\n",
      "Epoch 34/50\n",
      "15/15 [==============================] - 0s 3ms/step - loss: 0.2642 - accuracy: 0.8929 - val_loss: 0.3895 - val_accuracy: 0.8400\n",
      "Epoch 35/50\n",
      "15/15 [==============================] - 0s 3ms/step - loss: 0.2808 - accuracy: 0.8705 - val_loss: 0.3886 - val_accuracy: 0.8400\n",
      "Epoch 36/50\n",
      "15/15 [==============================] - 0s 3ms/step - loss: 0.2429 - accuracy: 0.9107 - val_loss: 0.3837 - val_accuracy: 0.8400\n",
      "Epoch 37/50\n",
      "15/15 [==============================] - 0s 3ms/step - loss: 0.2723 - accuracy: 0.8884 - val_loss: 0.3833 - val_accuracy: 0.8267\n",
      "Epoch 38/50\n",
      "15/15 [==============================] - 0s 3ms/step - loss: 0.2336 - accuracy: 0.8973 - val_loss: 0.3991 - val_accuracy: 0.8267\n",
      "Epoch 39/50\n",
      "15/15 [==============================] - 0s 3ms/step - loss: 0.2513 - accuracy: 0.8929 - val_loss: 0.4092 - val_accuracy: 0.8133\n",
      "Epoch 40/50\n",
      "15/15 [==============================] - 0s 3ms/step - loss: 0.2611 - accuracy: 0.8929 - val_loss: 0.4004 - val_accuracy: 0.8267\n",
      "Epoch 41/50\n",
      "15/15 [==============================] - 0s 4ms/step - loss: 0.2398 - accuracy: 0.8929 - val_loss: 0.4030 - val_accuracy: 0.8267\n",
      "Epoch 42/50\n",
      "15/15 [==============================] - 0s 3ms/step - loss: 0.2729 - accuracy: 0.8661 - val_loss: 0.4107 - val_accuracy: 0.8267\n",
      "Epoch 43/50\n",
      "15/15 [==============================] - 0s 3ms/step - loss: 0.2476 - accuracy: 0.8929 - val_loss: 0.4259 - val_accuracy: 0.8133\n",
      "Epoch 44/50\n",
      "15/15 [==============================] - 0s 4ms/step - loss: 0.2126 - accuracy: 0.9062 - val_loss: 0.4222 - val_accuracy: 0.8133\n",
      "Epoch 45/50\n",
      "15/15 [==============================] - 0s 3ms/step - loss: 0.2090 - accuracy: 0.9286 - val_loss: 0.4174 - val_accuracy: 0.8133\n",
      "Epoch 46/50\n",
      "15/15 [==============================] - 0s 3ms/step - loss: 0.2337 - accuracy: 0.9018 - val_loss: 0.4150 - val_accuracy: 0.8133\n",
      "Epoch 47/50\n",
      "15/15 [==============================] - 0s 3ms/step - loss: 0.2378 - accuracy: 0.9196 - val_loss: 0.4231 - val_accuracy: 0.8133\n",
      "Epoch 48/50\n",
      "15/15 [==============================] - 0s 3ms/step - loss: 0.1981 - accuracy: 0.9375 - val_loss: 0.4167 - val_accuracy: 0.8133\n",
      "Epoch 49/50\n",
      "15/15 [==============================] - 0s 3ms/step - loss: 0.2372 - accuracy: 0.9107 - val_loss: 0.4107 - val_accuracy: 0.8133\n",
      "Epoch 50/50\n",
      "15/15 [==============================] - 0s 3ms/step - loss: 0.2107 - accuracy: 0.9018 - val_loss: 0.4214 - val_accuracy: 0.8133\n"
     ]
    }
   ],
   "source": [
    "model_func_drp_batch.compile(loss='binary_crossentropy', \n",
    "                   optimizer='adam', metrics=['accuracy'])\n",
    "\n",
    "history_drp_batch = model_func_drp_batch.fit(X_train, y_train, batch_size = 15, epochs=50, validation_data=(X_test,y_test))"
   ]
  },
  {
   "cell_type": "code",
   "execution_count": 193,
   "metadata": {},
   "outputs": [
    {
     "name": "stdout",
     "output_type": "stream",
     "text": [
      "\n",
      "train_accuracy: 90.18%\n",
      "\n",
      "val_accuracy: 81.33%\n"
     ]
    }
   ],
   "source": [
    "# Let's check the last training and validation accuracy after defining the batches\n",
    "\n",
    "train_accuracy_drp_batch = history_drp_batch.history['accuracy'][-1]\n",
    "val_accuracy_drp_batch = history_drp_batch.history['val_accuracy'][-1]\n",
    "print(\"\\n%s: %.2f%%\" % ('train_accuracy', train_accuracy_drp_batch*100))\n",
    "print(\"\\n%s: %.2f%%\" % ('val_accuracy', val_accuracy_drp_batch*100))"
   ]
  },
  {
   "cell_type": "markdown",
   "metadata": {
    "tags": []
   },
   "source": [
    "There is no noticable improvement in the accuracies. The dataset used here is not big enough to have significant result of batch training."
   ]
  },
  {
   "cell_type": "markdown",
   "metadata": {},
   "source": [
    "# Data augmentation"
   ]
  },
  {
   "cell_type": "markdown",
   "metadata": {},
   "source": [
    "Before augmenting the Data, it is very important to understand which types of variations are in the data that does not affect its class. \n",
    "\n",
    "Here are two examples where we can take the advantages of augmentation\n",
    "- Task of polyphonic pitch tracking in music information retrieval process: In this task, the timbre of the audio (e.g. frequency response) can vary without affecting the correct transcription; this is an invariance assumption. \n",
    "- Finding object in an image: In this task, rotation or flip does not change the fact the change what object is shown in the image. So it is also invariant to the augmentation. \n",
    "\n",
    "But if we augment when the result is sensetive to the change of the data, then data augmentation can lead to worse result. For example, in our case we have information of the patient's different physical condition's parameters. Changing these data, also can change the target variable and the model will not work properly.\n"
   ]
  },
  {
   "cell_type": "markdown",
   "metadata": {},
   "source": [
    "So we will continue without augmenting our dataset."
   ]
  },
  {
   "cell_type": "markdown",
   "metadata": {},
   "source": [
    "# Early Stopping"
   ]
  },
  {
   "cell_type": "code",
   "execution_count": 195,
   "metadata": {},
   "outputs": [
    {
     "name": "stdout",
     "output_type": "stream",
     "text": [
      "Model: \"functional_79\"\n",
      "_________________________________________________________________\n",
      "Layer (type)                 Output Shape              Param #   \n",
      "=================================================================\n",
      "input_40 (InputLayer)        [(None, 12)]              0         \n",
      "_________________________________________________________________\n",
      "dense_117 (Dense)            (None, 100)               1300      \n",
      "_________________________________________________________________\n",
      "dropout_55 (Dropout)         (None, 100)               0         \n",
      "_________________________________________________________________\n",
      "dense_118 (Dense)            (None, 50)                5050      \n",
      "_________________________________________________________________\n",
      "dropout_56 (Dropout)         (None, 50)                0         \n",
      "_________________________________________________________________\n",
      "dense_119 (Dense)            (None, 1)                 51        \n",
      "=================================================================\n",
      "Total params: 6,401\n",
      "Trainable params: 6,401\n",
      "Non-trainable params: 0\n",
      "_________________________________________________________________\n"
     ]
    }
   ],
   "source": [
    "# Network structure is same as previous\n",
    "\n",
    "input1 = Input(shape=(X_train.shape[1],))\n",
    "hidden1 = Dense(100, activation='relu')(input1)\n",
    "hidden11 = Dropout(0.3)(hidden1)\n",
    "hidden2 = Dense(50, activation='relu')(hidden11)\n",
    "hidden22 = Dropout(0.2)(hidden2)\n",
    "output = Dense(1, activation='sigmoid')(hidden22)\n",
    "model_func_drp_batch_cb = Model(inputs=input1, outputs=output)\n",
    "\n",
    "model_func_drp_batch_cb.summary()"
   ]
  },
  {
   "cell_type": "code",
   "execution_count": 196,
   "metadata": {
    "tags": []
   },
   "outputs": [
    {
     "name": "stdout",
     "output_type": "stream",
     "text": [
      "Epoch 1/50\n",
      " 1/15 [=>............................] - ETA: 0s - loss: 0.7134 - accuracy: 0.4000WARNING:tensorflow:Callbacks method `on_train_batch_end` is slow compared to the batch time (batch time: 0.0000s vs `on_train_batch_end` time: 0.0010s). Check your callbacks.\n",
      "15/15 [==============================] - 0s 12ms/step - loss: 0.6988 - accuracy: 0.6027 - val_loss: 0.5944 - val_accuracy: 0.7200\n",
      "Epoch 2/50\n",
      "15/15 [==============================] - 0s 2ms/step - loss: 0.5919 - accuracy: 0.7188 - val_loss: 0.5395 - val_accuracy: 0.7600\n",
      "Epoch 3/50\n",
      "15/15 [==============================] - 0s 4ms/step - loss: 0.5512 - accuracy: 0.7366 - val_loss: 0.5001 - val_accuracy: 0.8267\n",
      "Epoch 4/50\n",
      "15/15 [==============================] - 0s 2ms/step - loss: 0.5002 - accuracy: 0.7857 - val_loss: 0.4619 - val_accuracy: 0.8133\n",
      "Epoch 5/50\n",
      "15/15 [==============================] - 0s 3ms/step - loss: 0.4633 - accuracy: 0.8036 - val_loss: 0.4330 - val_accuracy: 0.8133\n",
      "Epoch 6/50\n",
      "15/15 [==============================] - 0s 3ms/step - loss: 0.4632 - accuracy: 0.7902 - val_loss: 0.4095 - val_accuracy: 0.8000\n",
      "Epoch 7/50\n",
      "15/15 [==============================] - 0s 3ms/step - loss: 0.4337 - accuracy: 0.7946 - val_loss: 0.4053 - val_accuracy: 0.8400\n",
      "Epoch 8/50\n",
      "15/15 [==============================] - 0s 3ms/step - loss: 0.4187 - accuracy: 0.8259 - val_loss: 0.3955 - val_accuracy: 0.8400\n",
      "Epoch 9/50\n",
      "15/15 [==============================] - 0s 3ms/step - loss: 0.3882 - accuracy: 0.8259 - val_loss: 0.3891 - val_accuracy: 0.8400\n",
      "Epoch 10/50\n",
      "15/15 [==============================] - 0s 3ms/step - loss: 0.3857 - accuracy: 0.8571 - val_loss: 0.3775 - val_accuracy: 0.8400\n",
      "Epoch 11/50\n",
      "15/15 [==============================] - 0s 3ms/step - loss: 0.3899 - accuracy: 0.8348 - val_loss: 0.3807 - val_accuracy: 0.8400\n",
      "Epoch 12/50\n",
      "15/15 [==============================] - 0s 2ms/step - loss: 0.3572 - accuracy: 0.8661 - val_loss: 0.3733 - val_accuracy: 0.8400\n",
      "Epoch 13/50\n",
      "15/15 [==============================] - 0s 2ms/step - loss: 0.3732 - accuracy: 0.8304 - val_loss: 0.3776 - val_accuracy: 0.8400\n",
      "Epoch 14/50\n",
      "15/15 [==============================] - 0s 3ms/step - loss: 0.3693 - accuracy: 0.8348 - val_loss: 0.3752 - val_accuracy: 0.8400\n"
     ]
    }
   ],
   "source": [
    "# We will add another parameter named 'callback' which will stop the training if there is decrease in validation accuracy. \n",
    "# It will wait two iterations before stopping the training.\n",
    "\n",
    "callbacks = keras.callbacks.EarlyStopping(monitor='val_loss',\n",
    "                              min_delta=0,\n",
    "                              patience=2,\n",
    "                              verbose=0, mode='auto')\n",
    "\n",
    "model_func_drp_batch_cb.compile(loss='binary_crossentropy', \n",
    "                   optimizer='adam', metrics=['accuracy']\n",
    "                   )\n",
    "\n",
    "history_drp_batch_cb = model_func_drp_batch_cb.fit(X_train, y_train, batch_size = 15, epochs=50, callbacks=callbacks,\n",
    "                                                   validation_data=(X_test,y_test))"
   ]
  },
  {
   "cell_type": "markdown",
   "metadata": {},
   "source": [
    "The training stopped after 14 epochs as the validation accuracy started to decrease."
   ]
  },
  {
   "cell_type": "markdown",
   "metadata": {},
   "source": [
    "# L1 & L2 Regularization"
   ]
  },
  {
   "cell_type": "code",
   "execution_count": 197,
   "metadata": {},
   "outputs": [],
   "source": [
    "# Importing libraries for L1 and L2 regularization\n",
    "\n",
    "from keras import regularizers\n",
    "from tensorflow.keras.regularizers import l2, l1"
   ]
  },
  {
   "cell_type": "code",
   "execution_count": 198,
   "metadata": {},
   "outputs": [
    {
     "name": "stdout",
     "output_type": "stream",
     "text": [
      "Model: \"functional_81\"\n",
      "_________________________________________________________________\n",
      "Layer (type)                 Output Shape              Param #   \n",
      "=================================================================\n",
      "input_41 (InputLayer)        [(None, 12)]              0         \n",
      "_________________________________________________________________\n",
      "dense_120 (Dense)            (None, 100)               1300      \n",
      "_________________________________________________________________\n",
      "dropout_57 (Dropout)         (None, 100)               0         \n",
      "_________________________________________________________________\n",
      "dense_121 (Dense)            (None, 50)                5050      \n",
      "_________________________________________________________________\n",
      "dropout_58 (Dropout)         (None, 50)                0         \n",
      "_________________________________________________________________\n",
      "dense_122 (Dense)            (None, 1)                 51        \n",
      "=================================================================\n",
      "Total params: 6,401\n",
      "Trainable params: 6,401\n",
      "Non-trainable params: 0\n",
      "_________________________________________________________________\n"
     ]
    }
   ],
   "source": [
    "# Building network with adding L1 regularization\n",
    "\n",
    "input1 = Input(shape=(X_train.shape[1],))\n",
    "hidden1 = Dense(100, activation='relu', kernel_regularizer=regularizers.l1(0.001))(input1)\n",
    "hidden11 = Dropout(0.3)(hidden1)\n",
    "hidden2 = Dense(50, activation='relu', kernel_regularizer=regularizers.l1(0.001))(hidden11)\n",
    "hidden22 = Dropout(0.2)(hidden2)\n",
    "output = Dense(1, activation='sigmoid')(hidden22)\n",
    "model_func_drp_batch_l1 = Model(inputs=input1, outputs=output)\n",
    "\n",
    "model_func_drp_batch_l1.summary()"
   ]
  },
  {
   "cell_type": "code",
   "execution_count": 199,
   "metadata": {
    "tags": []
   },
   "outputs": [
    {
     "name": "stdout",
     "output_type": "stream",
     "text": [
      "Epoch 1/50\n",
      "15/15 [==============================] - 0s 14ms/step - loss: 1.2806 - accuracy: 0.6205 - val_loss: 1.2081 - val_accuracy: 0.7333\n",
      "Epoch 2/50\n",
      "15/15 [==============================] - 0s 2ms/step - loss: 1.1943 - accuracy: 0.6964 - val_loss: 1.1211 - val_accuracy: 0.7733\n",
      "Epoch 3/50\n",
      "15/15 [==============================] - 0s 2ms/step - loss: 1.1227 - accuracy: 0.7366 - val_loss: 1.0648 - val_accuracy: 0.8000\n",
      "Epoch 4/50\n",
      "15/15 [==============================] - 0s 3ms/step - loss: 1.0631 - accuracy: 0.7902 - val_loss: 1.0173 - val_accuracy: 0.8133\n",
      "Epoch 5/50\n",
      "15/15 [==============================] - 0s 3ms/step - loss: 1.0337 - accuracy: 0.7991 - val_loss: 0.9809 - val_accuracy: 0.8000\n",
      "Epoch 6/50\n",
      "15/15 [==============================] - 0s 3ms/step - loss: 0.9742 - accuracy: 0.8036 - val_loss: 0.9566 - val_accuracy: 0.8000\n",
      "Epoch 7/50\n",
      "15/15 [==============================] - 0s 3ms/step - loss: 0.9488 - accuracy: 0.7857 - val_loss: 0.9168 - val_accuracy: 0.8133\n",
      "Epoch 8/50\n",
      "15/15 [==============================] - 0s 3ms/step - loss: 0.8996 - accuracy: 0.8393 - val_loss: 0.9128 - val_accuracy: 0.8133\n",
      "Epoch 9/50\n",
      "15/15 [==============================] - 0s 3ms/step - loss: 0.8816 - accuracy: 0.8304 - val_loss: 0.8881 - val_accuracy: 0.8267\n",
      "Epoch 10/50\n",
      "15/15 [==============================] - 0s 3ms/step - loss: 0.8692 - accuracy: 0.8036 - val_loss: 0.8663 - val_accuracy: 0.8133\n",
      "Epoch 11/50\n",
      "15/15 [==============================] - 0s 3ms/step - loss: 0.8447 - accuracy: 0.8304 - val_loss: 0.8498 - val_accuracy: 0.8267\n",
      "Epoch 12/50\n",
      "15/15 [==============================] - 0s 3ms/step - loss: 0.8215 - accuracy: 0.8482 - val_loss: 0.8368 - val_accuracy: 0.8133\n",
      "Epoch 13/50\n",
      "15/15 [==============================] - 0s 3ms/step - loss: 0.7910 - accuracy: 0.8482 - val_loss: 0.8174 - val_accuracy: 0.8400\n",
      "Epoch 14/50\n",
      "15/15 [==============================] - 0s 3ms/step - loss: 0.7802 - accuracy: 0.8438 - val_loss: 0.8061 - val_accuracy: 0.8267\n",
      "Epoch 15/50\n",
      "15/15 [==============================] - 0s 3ms/step - loss: 0.7578 - accuracy: 0.8571 - val_loss: 0.7955 - val_accuracy: 0.8400\n",
      "Epoch 16/50\n",
      "15/15 [==============================] - 0s 3ms/step - loss: 0.7428 - accuracy: 0.8438 - val_loss: 0.7741 - val_accuracy: 0.8400\n",
      "Epoch 17/50\n",
      "15/15 [==============================] - 0s 3ms/step - loss: 0.7328 - accuracy: 0.8527 - val_loss: 0.7639 - val_accuracy: 0.8533\n",
      "Epoch 18/50\n",
      "15/15 [==============================] - 0s 3ms/step - loss: 0.7223 - accuracy: 0.8571 - val_loss: 0.7591 - val_accuracy: 0.8400\n",
      "Epoch 19/50\n",
      "15/15 [==============================] - 0s 3ms/step - loss: 0.6904 - accuracy: 0.8616 - val_loss: 0.7478 - val_accuracy: 0.8533\n",
      "Epoch 20/50\n",
      "15/15 [==============================] - 0s 3ms/step - loss: 0.7050 - accuracy: 0.8393 - val_loss: 0.7529 - val_accuracy: 0.8400\n",
      "Epoch 21/50\n",
      "15/15 [==============================] - 0s 3ms/step - loss: 0.6769 - accuracy: 0.8795 - val_loss: 0.7358 - val_accuracy: 0.8533\n",
      "Epoch 22/50\n",
      "15/15 [==============================] - 0s 2ms/step - loss: 0.6517 - accuracy: 0.8705 - val_loss: 0.7260 - val_accuracy: 0.8267\n",
      "Epoch 23/50\n",
      "15/15 [==============================] - 0s 3ms/step - loss: 0.6702 - accuracy: 0.8661 - val_loss: 0.7223 - val_accuracy: 0.8400\n",
      "Epoch 24/50\n",
      "15/15 [==============================] - 0s 3ms/step - loss: 0.6524 - accuracy: 0.8393 - val_loss: 0.7102 - val_accuracy: 0.8400\n",
      "Epoch 25/50\n",
      "15/15 [==============================] - 0s 3ms/step - loss: 0.6446 - accuracy: 0.8616 - val_loss: 0.7012 - val_accuracy: 0.8400\n",
      "Epoch 26/50\n",
      "15/15 [==============================] - 0s 3ms/step - loss: 0.6284 - accuracy: 0.8482 - val_loss: 0.6963 - val_accuracy: 0.8400\n",
      "Epoch 27/50\n",
      "15/15 [==============================] - 0s 3ms/step - loss: 0.6055 - accuracy: 0.8571 - val_loss: 0.6835 - val_accuracy: 0.8267\n",
      "Epoch 28/50\n",
      "15/15 [==============================] - 0s 3ms/step - loss: 0.6197 - accuracy: 0.8661 - val_loss: 0.6782 - val_accuracy: 0.8533\n",
      "Epoch 29/50\n",
      "15/15 [==============================] - 0s 3ms/step - loss: 0.5873 - accuracy: 0.8661 - val_loss: 0.6779 - val_accuracy: 0.8533\n",
      "Epoch 30/50\n",
      "15/15 [==============================] - 0s 3ms/step - loss: 0.6149 - accuracy: 0.8571 - val_loss: 0.6713 - val_accuracy: 0.8400\n",
      "Epoch 31/50\n",
      "15/15 [==============================] - 0s 3ms/step - loss: 0.5879 - accuracy: 0.8750 - val_loss: 0.6670 - val_accuracy: 0.8400\n",
      "Epoch 32/50\n",
      "15/15 [==============================] - 0s 3ms/step - loss: 0.5704 - accuracy: 0.8929 - val_loss: 0.6596 - val_accuracy: 0.8400\n",
      "Epoch 33/50\n",
      "15/15 [==============================] - 0s 3ms/step - loss: 0.5783 - accuracy: 0.8705 - val_loss: 0.6497 - val_accuracy: 0.8400\n",
      "Epoch 34/50\n",
      "15/15 [==============================] - 0s 3ms/step - loss: 0.5515 - accuracy: 0.8884 - val_loss: 0.6654 - val_accuracy: 0.8400\n",
      "Epoch 35/50\n",
      "15/15 [==============================] - 0s 3ms/step - loss: 0.5443 - accuracy: 0.8795 - val_loss: 0.6488 - val_accuracy: 0.8267\n",
      "Epoch 36/50\n",
      "15/15 [==============================] - 0s 3ms/step - loss: 0.5659 - accuracy: 0.8705 - val_loss: 0.6445 - val_accuracy: 0.8267\n",
      "Epoch 37/50\n",
      "15/15 [==============================] - 0s 3ms/step - loss: 0.5462 - accuracy: 0.8705 - val_loss: 0.6539 - val_accuracy: 0.8400\n",
      "Epoch 38/50\n",
      "15/15 [==============================] - 0s 3ms/step - loss: 0.5404 - accuracy: 0.8884 - val_loss: 0.6368 - val_accuracy: 0.8400\n",
      "Epoch 39/50\n",
      "15/15 [==============================] - 0s 3ms/step - loss: 0.5340 - accuracy: 0.8795 - val_loss: 0.6334 - val_accuracy: 0.8400\n",
      "Epoch 40/50\n",
      "15/15 [==============================] - 0s 3ms/step - loss: 0.5183 - accuracy: 0.8839 - val_loss: 0.6252 - val_accuracy: 0.8400\n",
      "Epoch 41/50\n",
      "15/15 [==============================] - 0s 3ms/step - loss: 0.5081 - accuracy: 0.9062 - val_loss: 0.6301 - val_accuracy: 0.8533\n",
      "Epoch 42/50\n",
      "15/15 [==============================] - 0s 3ms/step - loss: 0.5143 - accuracy: 0.8795 - val_loss: 0.6295 - val_accuracy: 0.8533\n"
     ]
    }
   ],
   "source": [
    "model_func_drp_batch_l1.compile(loss='binary_crossentropy', \n",
    "                   optimizer='adam', metrics=['accuracy'])\n",
    "\n",
    "history_drp_batch_l1 = model_func_drp_batch_l1.fit(X_train, y_train, batch_size = 15, epochs=50, \n",
    "                                                   callbacks=callbacks, validation_data=(X_test,y_test))"
   ]
  },
  {
   "cell_type": "code",
   "execution_count": 200,
   "metadata": {},
   "outputs": [
    {
     "name": "stdout",
     "output_type": "stream",
     "text": [
      "\n",
      "train_accuracy: 87.95%\n",
      "\n",
      "val_accuracy: 85.33%\n"
     ]
    }
   ],
   "source": [
    "# Let's check the last training and validation accuracy afterL1 regularization\n",
    "\n",
    "train_accuracy_drp_batch_l1 = history_drp_batch_l1.history['accuracy'][-1]\n",
    "val_accuracy_drp_batch_l1 = history_drp_batch_l1.history['val_accuracy'][-1]\n",
    "print(\"\\n%s: %.2f%%\" % ('train_accuracy', train_accuracy_drp_batch_l1*100))\n",
    "print(\"\\n%s: %.2f%%\" % ('val_accuracy', val_accuracy_drp_batch_l1*100))"
   ]
  },
  {
   "cell_type": "markdown",
   "metadata": {},
   "source": [
    "So, L1 regularization improved the validation accuracy."
   ]
  },
  {
   "cell_type": "code",
   "execution_count": 202,
   "metadata": {},
   "outputs": [
    {
     "name": "stdout",
     "output_type": "stream",
     "text": [
      "Model: \"functional_83\"\n",
      "_________________________________________________________________\n",
      "Layer (type)                 Output Shape              Param #   \n",
      "=================================================================\n",
      "input_42 (InputLayer)        [(None, 12)]              0         \n",
      "_________________________________________________________________\n",
      "dense_123 (Dense)            (None, 100)               1300      \n",
      "_________________________________________________________________\n",
      "dropout_59 (Dropout)         (None, 100)               0         \n",
      "_________________________________________________________________\n",
      "dense_124 (Dense)            (None, 50)                5050      \n",
      "_________________________________________________________________\n",
      "dropout_60 (Dropout)         (None, 50)                0         \n",
      "_________________________________________________________________\n",
      "dense_125 (Dense)            (None, 1)                 51        \n",
      "=================================================================\n",
      "Total params: 6,401\n",
      "Trainable params: 6,401\n",
      "Non-trainable params: 0\n",
      "_________________________________________________________________\n"
     ]
    }
   ],
   "source": [
    "# Now we will try with L2 regularizaiton\n",
    "\n",
    "input1 = Input(shape=(X_train.shape[1],))\n",
    "hidden1 = Dense(100, activation='relu', kernel_regularizer=regularizers.l2(0.001))(input1)\n",
    "hidden11 = Dropout(0.3)(hidden1)\n",
    "hidden2 = Dense(50, activation='relu', kernel_regularizer=regularizers.l2(0.001))(hidden11)\n",
    "hidden22 = Dropout(0.2)(hidden2)\n",
    "output = Dense(1, activation='sigmoid')(hidden22)\n",
    "model_func_drp_batch_l2 = Model(inputs=input1, outputs=output)\n",
    "\n",
    "model_func_drp_batch_l2.summary()"
   ]
  },
  {
   "cell_type": "code",
   "execution_count": 203,
   "metadata": {
    "tags": []
   },
   "outputs": [
    {
     "name": "stdout",
     "output_type": "stream",
     "text": [
      "Epoch 1/50\n",
      "15/15 [==============================] - 0s 13ms/step - loss: 0.7085 - accuracy: 0.6652 - val_loss: 0.6108 - val_accuracy: 0.7867\n",
      "Epoch 2/50\n",
      "15/15 [==============================] - 0s 2ms/step - loss: 0.6624 - accuracy: 0.7009 - val_loss: 0.5567 - val_accuracy: 0.7867\n",
      "Epoch 3/50\n",
      "15/15 [==============================] - 0s 2ms/step - loss: 0.6288 - accuracy: 0.7232 - val_loss: 0.5173 - val_accuracy: 0.8533\n",
      "Epoch 4/50\n",
      "15/15 [==============================] - 0s 3ms/step - loss: 0.5684 - accuracy: 0.7857 - val_loss: 0.4865 - val_accuracy: 0.8933\n",
      "Epoch 5/50\n",
      "15/15 [==============================] - 0s 2ms/step - loss: 0.5125 - accuracy: 0.8393 - val_loss: 0.4620 - val_accuracy: 0.8667\n",
      "Epoch 6/50\n",
      "15/15 [==============================] - 0s 3ms/step - loss: 0.5039 - accuracy: 0.8259 - val_loss: 0.4486 - val_accuracy: 0.8400\n",
      "Epoch 7/50\n",
      "15/15 [==============================] - 0s 3ms/step - loss: 0.5117 - accuracy: 0.8170 - val_loss: 0.4409 - val_accuracy: 0.8400\n",
      "Epoch 8/50\n",
      "15/15 [==============================] - 0s 3ms/step - loss: 0.5067 - accuracy: 0.8036 - val_loss: 0.4408 - val_accuracy: 0.8400\n",
      "Epoch 9/50\n",
      "15/15 [==============================] - 0s 3ms/step - loss: 0.4651 - accuracy: 0.8214 - val_loss: 0.4337 - val_accuracy: 0.8400\n",
      "Epoch 10/50\n",
      "15/15 [==============================] - 0s 2ms/step - loss: 0.4563 - accuracy: 0.8393 - val_loss: 0.4301 - val_accuracy: 0.8400\n",
      "Epoch 11/50\n",
      "15/15 [==============================] - 0s 2ms/step - loss: 0.4264 - accuracy: 0.8393 - val_loss: 0.4403 - val_accuracy: 0.8400\n",
      "Epoch 12/50\n",
      "15/15 [==============================] - 0s 2ms/step - loss: 0.4189 - accuracy: 0.8661 - val_loss: 0.4368 - val_accuracy: 0.8400\n"
     ]
    }
   ],
   "source": [
    "model_func_drp_batch_l2.compile(loss='binary_crossentropy', \n",
    "                   optimizer='adam', metrics=['accuracy']\n",
    "                   )\n",
    "\n",
    "history_drp_batch_l2 = model_func_drp_batch_l2.fit(X_train, y_train, batch_size = 15, epochs=50, \n",
    "                                                   callbacks=callbacks, validation_data=(X_test,y_test))"
   ]
  },
  {
   "cell_type": "code",
   "execution_count": 204,
   "metadata": {},
   "outputs": [
    {
     "name": "stdout",
     "output_type": "stream",
     "text": [
      "\n",
      "train_accuracy: 86.61%\n",
      "\n",
      "val_accuracy: 84.00%\n"
     ]
    }
   ],
   "source": [
    "# Let's check the last training and validation accuracy after L2 regularization\n",
    "\n",
    "train_accuracy_drp_batch_l2 = history_drp_batch_l2.history['accuracy'][-1]\n",
    "val_accuracy_drp_batch_l2 = history_drp_batch_l2.history['val_accuracy'][-1]\n",
    "print(\"\\n%s: %.2f%%\" % ('train_accuracy', train_accuracy_drp_batch_l2*100))\n",
    "print(\"\\n%s: %.2f%%\" % ('val_accuracy', val_accuracy_drp_batch_l2*100))"
   ]
  },
  {
   "cell_type": "markdown",
   "metadata": {},
   "source": [
    "L2 regualrizaiton also helped to improve the overfitting. Further experiment can be done with larger amount of data."
   ]
  },
  {
   "cell_type": "code",
   "execution_count": null,
   "metadata": {},
   "outputs": [],
   "source": []
  }
 ],
 "metadata": {
  "kernelspec": {
   "display_name": "Python 3",
   "language": "python",
   "name": "python3"
  },
  "language_info": {
   "codemirror_mode": {
    "name": "ipython",
    "version": 3
   },
   "file_extension": ".py",
   "mimetype": "text/x-python",
   "name": "python",
   "nbconvert_exporter": "python",
   "pygments_lexer": "ipython3",
   "version": "3.8.5"
  }
 },
 "nbformat": 4,
 "nbformat_minor": 4
}
